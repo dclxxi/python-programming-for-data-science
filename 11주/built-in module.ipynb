{
 "cells": [
  {
   "cell_type": "markdown",
   "metadata": {},
   "source": [
    "# 파이썬 내장(built-in) 모듈\n",
    "\n",
    "## 시간 모듈(datetime)\n",
    "* 운영체제가 제공하는 시간 기능을 파이썬에서 사용할 수 있도록 만들어진 모듈\n",
    "* 시간 모듈을 사용하기 위해서는 `import time` 필요"
   ]
  },
  {
   "cell_type": "code",
   "execution_count": 1,
   "metadata": {},
   "outputs": [
    {
     "name": "stdout",
     "output_type": "stream",
     "text": [
      "['_STRUCT_TM_ITEMS', '__doc__', '__loader__', '__name__', '__package__', '__spec__', 'altzone', 'asctime', 'ctime', 'daylight', 'get_clock_info', 'gmtime', 'localtime', 'mktime', 'monotonic', 'monotonic_ns', 'perf_counter', 'perf_counter_ns', 'process_time', 'process_time_ns', 'sleep', 'strftime', 'strptime', 'struct_time', 'thread_time', 'thread_time_ns', 'time', 'time_ns', 'timezone', 'tzname']\n"
     ]
    }
   ],
   "source": [
    "import time\n",
    "print(dir(time)) # 제공 메소드 확인"
   ]
  },
  {
   "cell_type": "markdown",
   "metadata": {},
   "source": [
    "## 시간 모듈 예제"
   ]
  },
  {
   "cell_type": "code",
   "execution_count": 2,
   "metadata": {},
   "outputs": [
    {
     "name": "stdout",
     "output_type": "stream",
     "text": [
      "<module 'time' (built-in)>\n",
      "1637248618.1187525\n",
      "time.struct_time(tm_year=2021, tm_mon=11, tm_mday=18, tm_hour=15, tm_min=16, tm_sec=58, tm_wday=3, tm_yday=322, tm_isdst=0)\n",
      "2021년 11월 18일\n",
      "15시 16분 58초\n"
     ]
    }
   ],
   "source": [
    "print(time) # time 모듈\n",
    "print(time.time()) # 1900년부터 지금까지 지나온 시간(초)\n",
    "\n",
    "now=time.gmtime(time.time()) # gmtime: time 구조 변환\n",
    "print(now)\n",
    "\n",
    "year=str(now.tm_year)\n",
    "month=str(now.tm_mon)\n",
    "day=str(now.tm_mday)\n",
    "print(year+\"년\", month+\"월\", day+\"일\")\n",
    "\n",
    "hour=str(now.tm_hour)\n",
    "minute=str(now.tm_min)\n",
    "sec=str(now.tm_sec)\n",
    "print(hour+\"시\", minute+\"분\", sec+\"초\")"
   ]
  },
  {
   "cell_type": "markdown",
   "metadata": {},
   "source": [
    "### 날짜시간 모듈 datetime의 date 클래스 예제"
   ]
  },
  {
   "cell_type": "code",
   "execution_count": 3,
   "metadata": {},
   "outputs": [
    {
     "name": "stdout",
     "output_type": "stream",
     "text": [
      "<class 'datetime.date'>\n",
      "2000-01-01\n",
      "2010-01-01\n",
      "2021-11-19\n",
      "2021년 11월 19일 금요일\n"
     ]
    }
   ],
   "source": [
    "from datetime import date # 날짜 쉽게 다룸\n",
    "print(date) # 클래스\n",
    "print(date(2000, 1, 1)) # date: 날짜 만듦\n",
    "print(date(year=2010, month=1, day=1))\n",
    "print(date.today()) # 오늘 날짜\n",
    "\n",
    "today=date.today()\n",
    "year=str(today.year) # 따로 추출\n",
    "month=str(today.month)\n",
    "day=str(today.day)\n",
    "weekday=\"월화수목금토일\"[today.weekday()] # 인덱스 형태로 반환 (인덱스에 해당하는 문자열 출력)\n",
    "print(year+\"년\", month+\"월\", day+\"일\", weekday+\"요일\")"
   ]
  },
  {
   "cell_type": "markdown",
   "metadata": {},
   "source": [
    "### 통계 모듈\n",
    "* `statistics` 모듈에서는 산술평균, 표준편차 등 통계에 필요한 계산 관련 함수들을 제공\n",
    "\n",
    "    |함수|설명|\n",
    "    |----|---|\n",
    "    |statistics.median(seq)|시퀀스의 중앙값|\n",
    "    |statistics.mean(seq)|시퀀스의 산술 평균|\n",
    "    |statistics.stdev(seq)|시퀀스의 표본 표준편차|\n",
    "    |statistics.variance(seq)|시퀀스의 표본 분산|"
   ]
  },
  {
   "cell_type": "code",
   "execution_count": 4,
   "metadata": {},
   "outputs": [
    {
     "name": "stdout",
     "output_type": "stream",
     "text": [
      "74.0\n",
      "70.7\n",
      "17.217884758458442\n",
      "296.4555555555556\n"
     ]
    }
   ],
   "source": [
    "import statistics\n",
    "values=[56, 44, 67, 47, 82, 67, 92, 89, 81, 82]\n",
    "print(statistics.median(values))\n",
    "print(statistics.mean(values))\n",
    "print(statistics.stdev(values))\n",
    "print(statistics.variance(values))"
   ]
  },
  {
   "cell_type": "markdown",
   "metadata": {},
   "source": [
    "### 랜덤 모듈(random)\n",
    "* 랜덤 모듈을 사용하기 위해서는 `imort random` 필요\n",
    "    * `random.random()`: 0.0~1.0 미만의 실수값 반환\n",
    "    * `random.randint(1, 10)`: 1~10 사이의 정수 반환\n",
    "    * `random.randrange(0, 10, 2)`: 0~10 미만의 2의 배수만 반환\n",
    "    * `random.choice()`: 자료형 변수에서 임의의 값 반환\n",
    "    * `random.sample()`: 자료형 변수에서 필요한 개수만큼 반환\n",
    "    * `random.shuffle()`: 자료형 변수 내용을 랜덤으로 셔플"
   ]
  },
  {
   "cell_type": "code",
   "execution_count": 5,
   "metadata": {},
   "outputs": [
    {
     "name": "stdout",
     "output_type": "stream",
     "text": [
      "0.574268600806612\n",
      "8\n",
      "6\n"
     ]
    }
   ],
   "source": [
    "import random\n",
    "print(random.random()) # 임의 실수\n",
    "print(random.randint(1, 10))\n",
    "print(random.randrange(0, 10, 2))"
   ]
  },
  {
   "cell_type": "code",
   "execution_count": 6,
   "metadata": {},
   "outputs": [
    {
     "name": "stdout",
     "output_type": "stream",
     "text": [
      "[10, 20, 30, 40, 50]\n",
      "30\n",
      "[50, 10]\n",
      "[10, 40, 30, 50, 20]\n"
     ]
    }
   ],
   "source": [
    "li=[10, 20, 30, 40, 50]\n",
    "print(li) # 원본\n",
    "print(random.choice(li)) # 하나만 선택\n",
    "print(random.sample(li, 2)) # 지정 개수만큼\n",
    "random.shuffle(li) # 셔틀 결과 반환 X\n",
    "print(li) # 결과 확인"
   ]
  },
  {
   "cell_type": "markdown",
   "metadata": {},
   "source": [
    "## 수학 모듈(math)\n",
    "- 파이썬에서 수학에 필요한 math 모듈 제공<br><br>\n",
    "\n",
    "\n",
    "- `math` 모듈 대표 상수\n",
    "    |상수|설명|\n",
    "    |---|---|\n",
    "    |`math.pi`|원주율|\n",
    "    |`math.e`|자연상수|\n",
    "    |`math.inf`|무한대|\n",
    "- `math` 모듈에서 제공하는 대표 함수\n",
    "    |함수|설명|\n",
    "    |---|---|\n",
    "    |`math.factorial(x)`|x 팩토리얼|\n",
    "    |`math.gcd(a, b)`|a와 b의 최대공약수|\n",
    "    |`math.floor(x)`|x의 내림값|\n",
    "    |`math.ceil(x)`|x의 올림값|\n",
    "    |`math.pow(x, y)`|x의 y승|\n",
    "    |`math.sqrt(x)`|x의 제곱근|\n",
    "    |`math.log(x, base)`|base를 밑으로 하는 x 로그|\n",
    "    |`math.sin(x)`|x 라디안의 사인|\n",
    "    |`math.cos(x)`|x 라디안의 코사인|\n",
    "    |`math.tan(x)`|x 라디안의 탄젠트|\n",
    "    |`math.degrees(x)`|x 라디안을 도 단위로 변환|\n",
    "    |`math.radians(x)`|x 도를 라디안 단위로 변환"
   ]
  },
  {
   "cell_type": "code",
   "execution_count": 7,
   "metadata": {},
   "outputs": [
    {
     "name": "stdout",
     "output_type": "stream",
     "text": [
      "6\n",
      "12\n",
      "3\n",
      "4\n",
      "1024.0\n",
      "3.1622776601683795\n",
      "3.3219280948873626\n",
      "180.0\n",
      "3.141592653589793\n",
      "1.0\n",
      "-1.0\n"
     ]
    }
   ],
   "source": [
    "import math # 모듈 이름 정도만\n",
    "print(math.factorial(3))\n",
    "print(math.gcd(12, 24))\n",
    "print(math.floor(math.pi))\n",
    "print(math.ceil(math.pi))\n",
    "print(math.pow(2, 10))\n",
    "print(math.sqrt(10))\n",
    "print(math.log(10, 2))\n",
    "print(math.degrees(math.pi))\n",
    "print(math.radians(180))\n",
    "print(math.sin(math.radians(90)))\n",
    "print(math.cos(math.radians(180)))"
   ]
  }
 ],
 "metadata": {
  "kernelspec": {
   "display_name": "Python 3",
   "language": "python",
   "name": "python3"
  },
  "language_info": {
   "codemirror_mode": {
    "name": "ipython",
    "version": 3
   },
   "file_extension": ".py",
   "mimetype": "text/x-python",
   "name": "python",
   "nbconvert_exporter": "python",
   "pygments_lexer": "ipython3",
   "version": "3.8.8"
  }
 },
 "nbformat": 4,
 "nbformat_minor": 4
}

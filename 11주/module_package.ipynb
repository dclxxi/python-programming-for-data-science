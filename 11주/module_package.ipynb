{
 "cells": [
  {
   "cell_type": "markdown",
   "metadata": {},
   "source": [
    "# 모듈(Module)\n",
    "\n",
    "* 함수, 변수 그리고 클래스의 집합\n",
    "* 다른 파이썬 프로그램에서 가져와 사용할 수 있는 파이썬 파일\n",
    "* 파이썬에는 다른 사람들이 만들어 놓은 모듈이 굉장히 많음\n",
    "* 사용자가 모듈은 직접 만들어서 사용할 수도 있음\n",
    "\n",
    "## 모듈의 종류\n",
    "* 사용자 정의 모듈: 사용자가 직접 정의해서 사용하는 모듈\n",
    "* 내장 모듈: 파이썬에서 기본 제공하는 모듈\n",
    "* 서드 파티 모듈: 외부에서 제공하는 모듈\n",
    "    * 파이썬 표준 모듈에 모든 기능이 있지 않음\n",
    "    * 서드 파티 모듈을 이용해 고급 프로그래밍 가능\n",
    "    * 게임 개발을 위한 pygame, 데이터베이스 기능의 SQLAlchemy, 데이터 분석 기능의 NumPy\n",
    "    \n",
    "## 사용자 정의 모듈\n",
    "* 사용자가 사용할 모듈을 직접 정의\n",
    "* 모듈 이름으로 파일명을 사용"
   ]
  },
  {
   "cell_type": "code",
   "execution_count": 1,
   "metadata": {},
   "outputs": [
    {
     "name": "stdout",
     "output_type": "stream",
     "text": [
      "Overwriting fah_converter.py\n"
     ]
    }
   ],
   "source": [
    "%%writefile fah_converter.py # %%: 컴퓨터 디렉터리 접근\n",
    "# writefile: fah_converter.py 이름으로 코드 셀 안에 있는 내용 포함해서 저장 (파일 생성)\n",
    "def convert_c_to_f(celcius_value): # 모듈에 포함\n",
    "    return celcius_value*9.0/5+32"
   ]
  },
  {
   "cell_type": "code",
   "execution_count": 2,
   "metadata": {},
   "outputs": [
    {
     "name": "stdout",
     "output_type": "stream",
     "text": [
      " C 드라이브의 볼륨에는 이름이 없습니다.\n",
      " 볼륨 일련 번호: D650-9B1A\n",
      "\n",
      " C:\\python\\11주 디렉터리\n",
      "\n",
      "2021-11-19  오전 12:12    <DIR>          .\n",
      "2021-11-19  오전 12:12    <DIR>          ..\n",
      "2021-11-12  오후 10:55    <DIR>          .ipynb_checkpoints\n",
      "2021-11-12  오후 11:04    <DIR>          __pycache__\n",
      "2021-11-12  오후 11:36             7,966 built-in module.ipynb\n",
      "2021-11-19  오전 12:13                71 fah_converter.py\n",
      "2021-11-12  오후 11:08            15,888 module_package.ipynb\n",
      "2021-11-12  오후 11:08    <DIR>          roboadvisor\n",
      "2021-11-19  오전 12:12             4,070 Untitled.ipynb\n",
      "               4개 파일              27,995 바이트\n",
      "               5개 디렉터리  22,802,636,800 바이트 남음\n"
     ]
    }
   ],
   "source": [
    "ls # 현재 디렉터리 하위 파일, 폴더"
   ]
  },
  {
   "cell_type": "code",
   "execution_count": 3,
   "metadata": {},
   "outputs": [],
   "source": [
    "import fah_converter # 모듈 가져옴"
   ]
  },
  {
   "cell_type": "code",
   "execution_count": 4,
   "metadata": {},
   "outputs": [
    {
     "name": "stdout",
     "output_type": "stream",
     "text": [
      "39.488\n"
     ]
    }
   ],
   "source": [
    "import fah_converter as fah\n",
    "\n",
    "print(fah.convert_c_to_f(4.16))"
   ]
  },
  {
   "cell_type": "markdown",
   "metadata": {},
   "source": [
    "## 네임스페이스(Namespace)\n",
    "* 모듈 호출의 범위 지정\n",
    "\n",
    "모듈 이름에 alias를 생성하여 모듈의 이름을 바꿔 사용"
   ]
  },
  {
   "cell_type": "code",
   "execution_count": 5,
   "metadata": {},
   "outputs": [
    {
     "name": "stdout",
     "output_type": "stream",
     "text": [
      "Enter a celsius value:\n",
      "10\n",
      "That's 50.0 degrees Fahrenheit.\n"
     ]
    }
   ],
   "source": [
    "print(\"Enter a celsius value:\")\n",
    "celsius=float(input())\n",
    "fahrenheit=fah_converter.convert_c_to_f(celsius)\n",
    "print(\"That's\", fahrenheit, \"degrees Fahrenheit.\")"
   ]
  },
  {
   "cell_type": "code",
   "execution_count": 6,
   "metadata": {},
   "outputs": [
    {
     "name": "stdout",
     "output_type": "stream",
     "text": [
      "0.5955347896893745\n",
      "4\n"
     ]
    }
   ],
   "source": [
    "import random as rd # 랜덤 모듈 가져옴\n",
    "\n",
    "print(rd.random()) # 0~1 사이 실수 값\n",
    "print(rd.randrange(0, 10, 2)) # 0~9 2씩 건너뛰는 값 중 하나 (짝수)"
   ]
  },
  {
   "cell_type": "markdown",
   "metadata": {},
   "source": [
    "#### from 구문을 사용하여 모듈에서 특정 함수 또는 클래스만 호출"
   ]
  },
  {
   "cell_type": "code",
   "execution_count": 7,
   "metadata": {},
   "outputs": [
    {
     "name": "stdout",
     "output_type": "stream",
     "text": [
      "106.88000000000001\n"
     ]
    }
   ],
   "source": [
    "from fah_converter import convert_c_to_f # fah_converter에서 convert_c_to_f 함수만 가져옴\n",
    "\n",
    "print(convert_c_to_f(41.6))"
   ]
  },
  {
   "cell_type": "code",
   "execution_count": 8,
   "metadata": {},
   "outputs": [
    {
     "name": "stdout",
     "output_type": "stream",
     "text": [
      "0.3772512699996131\n",
      "0\n"
     ]
    }
   ],
   "source": [
    "from random import random, randrange # random에서 random, randrange 함수만 가져옴\n",
    "\n",
    "print(random()) # 모듈 이름 생략해서 사용 가능\n",
    "print(randrange(0, 10, 2))"
   ]
  },
  {
   "cell_type": "markdown",
   "metadata": {},
   "source": [
    "#### '*'을 사용하여 모듈 안에 모든 함수, 클래스, 변수를 가져옴"
   ]
  },
  {
   "cell_type": "code",
   "execution_count": 9,
   "metadata": {},
   "outputs": [
    {
     "name": "stdout",
     "output_type": "stream",
     "text": [
      "0.26873651703106816\n",
      "4\n"
     ]
    }
   ],
   "source": [
    "from random import * # 모두 가져옴\n",
    "\n",
    "print(random()) # 메모리에 올려놨기 때문에 모듈 이름 생략 가능\n",
    "print(randrange(0, 10, 2))"
   ]
  },
  {
   "cell_type": "markdown",
   "metadata": {},
   "source": [
    "#### [MiniLab] 계산기 모듈"
   ]
  },
  {
   "cell_type": "code",
   "execution_count": 10,
   "metadata": {},
   "outputs": [
    {
     "name": "stdout",
     "output_type": "stream",
     "text": [
      "Writing calculator.py\n"
     ]
    }
   ],
   "source": [
    "%%writefile calculator.py # 모듈 생성\n",
    "def add(a, b):\n",
    "    return a+b\n",
    "\n",
    "def sub(a, b):\n",
    "    return a-b\n",
    "\n",
    "def mul(a, b):\n",
    "    return a/b\n",
    "\n",
    "def div(a, b):\n",
    "    return a*b\n",
    "\n",
    "def mod(a, b):\n",
    "    return a%b"
   ]
  },
  {
   "cell_type": "code",
   "execution_count": 11,
   "metadata": {},
   "outputs": [
    {
     "name": "stdout",
     "output_type": "stream",
     "text": [
      "8\n",
      "-2\n",
      "0.6\n",
      "15\n",
      "3\n"
     ]
    }
   ],
   "source": [
    "from calculator import * # 모두 가져옴\n",
    "\n",
    "print(add(3, 5))\n",
    "print(sub(3, 5))\n",
    "print(mul(3, 5))\n",
    "print(div(3, 5))\n",
    "print(mod(3, 5))"
   ]
  },
  {
   "cell_type": "markdown",
   "metadata": {},
   "source": [
    "## [참고] 셸 명령어\n",
    "* 텍스트 기반의 셸 명령어\n",
    "* ! 문자를 명령어 앞에 붙여서 셸 명령어 사용 가능\n",
    "---\n",
    "* pwd: 현재 주피터 노트북 파일의 경로\n",
    "* ls: 현재 폴더의 파일 리스트\n",
    "* whos: 현재 파일에 선언되어 메모리에 할당된 변수들\n",
    "* reset: 현재 파일에서 메모리에 할당\n",
    "* mkdir: 디렉토리 생성"
   ]
  },
  {
   "cell_type": "code",
   "execution_count": 12,
   "metadata": {},
   "outputs": [
    {
     "data": {
      "text/plain": [
       "'C:\\\\python\\\\11주'"
      ]
     },
     "execution_count": 12,
     "metadata": {},
     "output_type": "execute_result"
    }
   ],
   "source": [
    "pwd # ! or % or 그냥"
   ]
  },
  {
   "cell_type": "code",
   "execution_count": 13,
   "metadata": {},
   "outputs": [
    {
     "name": "stdout",
     "output_type": "stream",
     "text": [
      "Variable          Type                          Data/Info\n",
      "---------------------------------------------------------\n",
      "Random            type                          <class 'random.Random'>\n",
      "SystemRandom      type                          <class 'random.SystemRandom'>\n",
      "add               function                      <function add at 0x000001AA90D72D30>\n",
      "betavariate       method                        <bound method Random.beta<...>t at 0x000001AA8CFF0F90>>\n",
      "celsius           float                         10.0\n",
      "choice            method                        <bound method Random.choi<...>t at 0x000001AA8CFF0F90>>\n",
      "choices           method                        <bound method Random.choi<...>t at 0x000001AA8CFF0F90>>\n",
      "convert_c_to_f    function                      <function convert_c_to_f at 0x000001AA90D72820>\n",
      "div               function                      <function div at 0x000001AA90D72AF0>\n",
      "expovariate       method                        <bound method Random.expo<...>t at 0x000001AA8CFF0F90>>\n",
      "fah               module                        <module 'fah_converter' f<...>\\\\11주\\\\fah_converter.py'>\n",
      "fah_converter     module                        <module 'fah_converter' f<...>\\\\11주\\\\fah_converter.py'>\n",
      "fahrenheit        float                         50.0\n",
      "gammavariate      method                        <bound method Random.gamm<...>t at 0x000001AA8CFF0F90>>\n",
      "gauss             method                        <bound method Random.gaus<...>t at 0x000001AA8CFF0F90>>\n",
      "getrandbits       builtin_function_or_method    <built-in method getrandb<...>ct at 0x000001AA8CFF0F90>\n",
      "getstate          method                        <bound method Random.gets<...>t at 0x000001AA8CFF0F90>>\n",
      "lognormvariate    method                        <bound method Random.logn<...>t at 0x000001AA8CFF0F90>>\n",
      "mod               function                      <function mod at 0x000001AA90D72790>\n",
      "mul               function                      <function mul at 0x000001AA90D72C10>\n",
      "normalvariate     method                        <bound method Random.norm<...>t at 0x000001AA8CFF0F90>>\n",
      "paretovariate     method                        <bound method Random.pare<...>t at 0x000001AA8CFF0F90>>\n",
      "randint           method                        <bound method Random.rand<...>t at 0x000001AA8CFF0F90>>\n",
      "random            builtin_function_or_method    <built-in method random o<...>ct at 0x000001AA8CFF0F90>\n",
      "randrange         method                        <bound method Random.rand<...>t at 0x000001AA8CFF0F90>>\n",
      "rd                module                        <module 'random' from 'C:<...>aconda3\\\\lib\\\\random.py'>\n",
      "sample            method                        <bound method Random.samp<...>t at 0x000001AA8CFF0F90>>\n",
      "seed              method                        <bound method Random.seed<...>t at 0x000001AA8CFF0F90>>\n",
      "setstate          method                        <bound method Random.sets<...>t at 0x000001AA8CFF0F90>>\n",
      "shuffle           method                        <bound method Random.shuf<...>t at 0x000001AA8CFF0F90>>\n",
      "sub               function                      <function sub at 0x000001AA90D725E0>\n",
      "triangular        method                        <bound method Random.tria<...>t at 0x000001AA8CFF0F90>>\n",
      "uniform           method                        <bound method Random.unif<...>t at 0x000001AA8CFF0F90>>\n",
      "vonmisesvariate   method                        <bound method Random.vonm<...>t at 0x000001AA8CFF0F90>>\n",
      "weibullvariate    method                        <bound method Random.weib<...>t at 0x000001AA8CFF0F90>>\n"
     ]
    }
   ],
   "source": [
    "whos # 현재 파일에 선언되어 메모리에 할당된 변수들"
   ]
  },
  {
   "cell_type": "markdown",
   "metadata": {},
   "source": [
    "# 패키지(Packages)\n",
    "\n",
    "* 패키지는 모듈의 집합\n",
    "* 패키지 안에 여러 모듈이 존재\n",
    "* 모듈을 주제별로 분리할 때 사용\n",
    "* 디렉터리와 같이 계층적인 구조로 관리\n",
    "* 모듈들이 서로 포함 관계를 가지며 거대한 패키지를 가짐\n",
    "* 파이썬에서는 패키지가 하나의 라이브러리"
   ]
  },
  {
   "cell_type": "code",
   "execution_count": 14,
   "metadata": {},
   "outputs": [],
   "source": [
    "!mkdir roboadvisor # ! 사용 - 패키지 생성\n",
    "!mkdir roboadvisor\\crawling # 디렉터리 구분: \\(역슬래쉬)\n",
    "!mkdir roboadvisor\\database\n",
    "!mkdir roboadvisor\\analysis"
   ]
  },
  {
   "cell_type": "code",
   "execution_count": 15,
   "metadata": {},
   "outputs": [
    {
     "name": "stdout",
     "output_type": "stream",
     "text": [
      " C 드라이브의 볼륨에는 이름이 없습니다.\n",
      " 볼륨 일련 번호: D650-9B1A\n",
      "\n",
      " C:\\python\\11주\\roboadvisor 디렉터리\n",
      "\n",
      "2021-11-19  오전 12:15    <DIR>          .\n",
      "2021-11-19  오전 12:15    <DIR>          ..\n",
      "2021-11-19  오전 12:15    <DIR>          analysis\n",
      "2021-11-19  오전 12:15    <DIR>          crawling\n",
      "2021-11-19  오전 12:15    <DIR>          database\n",
      "               0개 파일                   0 바이트\n",
      "               5개 디렉터리  22,797,144,064 바이트 남음\n"
     ]
    }
   ],
   "source": [
    "ls roboadvisor"
   ]
  },
  {
   "cell_type": "code",
   "execution_count": 16,
   "metadata": {},
   "outputs": [
    {
     "name": "stdout",
     "output_type": "stream",
     "text": [
      "Writing roboadvisor\\crawling\\parser.py\n"
     ]
    }
   ],
   "source": [
    "%%writefile roboadvisor\\crawling\\parser.py # 각 패키지 안에 모듈 파일 생성\n",
    "def parser_test():\n",
    "    print('parser')"
   ]
  },
  {
   "cell_type": "code",
   "execution_count": 17,
   "metadata": {},
   "outputs": [
    {
     "name": "stdout",
     "output_type": "stream",
     "text": [
      "Writing roboadvisor\\crawling\\scrap.py\n"
     ]
    }
   ],
   "source": [
    "%%writefile roboadvisor\\crawling\\scrap.py\n",
    "def scrap_test():\n",
    "    print('scrap')"
   ]
  },
  {
   "cell_type": "code",
   "execution_count": 18,
   "metadata": {},
   "outputs": [
    {
     "name": "stdout",
     "output_type": "stream",
     "text": [
      "Writing roboadvisor\\database\\connection.py\n"
     ]
    }
   ],
   "source": [
    "%%writefile roboadvisor\\database\\connection.py\n",
    "def connection_test():\n",
    "    print('connection')"
   ]
  },
  {
   "cell_type": "code",
   "execution_count": 19,
   "metadata": {},
   "outputs": [
    {
     "name": "stdout",
     "output_type": "stream",
     "text": [
      "Writing roboadvisor\\database\\query.py\n"
     ]
    }
   ],
   "source": [
    "%%writefile roboadvisor\\database\\query.py\n",
    "def query_test():\n",
    "    print('query')"
   ]
  },
  {
   "cell_type": "code",
   "execution_count": 20,
   "metadata": {},
   "outputs": [
    {
     "name": "stdout",
     "output_type": "stream",
     "text": [
      "Writing roboadvisor\\analysis\\series.py\n"
     ]
    }
   ],
   "source": [
    "%%writefile roboadvisor\\analysis\\series.py\n",
    "def series_test():\n",
    "    print('series')"
   ]
  },
  {
   "cell_type": "code",
   "execution_count": 21,
   "metadata": {},
   "outputs": [
    {
     "name": "stdout",
     "output_type": "stream",
     "text": [
      "Writing roboadvisor\\analysis\\statics.py\n"
     ]
    }
   ],
   "source": [
    "%%writefile roboadvisor\\analysis\\statics.py\n",
    "def statics_test():\n",
    "    print('statics')"
   ]
  },
  {
   "cell_type": "markdown",
   "metadata": {},
   "source": [
    "# 패키지 실행"
   ]
  },
  {
   "cell_type": "code",
   "execution_count": 22,
   "metadata": {},
   "outputs": [
    {
     "name": "stdout",
     "output_type": "stream",
     "text": [
      "series\n"
     ]
    }
   ],
   "source": [
    "from roboadvisor.analysis import series\n",
    "\n",
    "series.series_test()"
   ]
  },
  {
   "cell_type": "markdown",
   "metadata": {},
   "source": [
    "## 패키지 구성 파일\n",
    "* \\_\\_init\\_\\_.py\n",
    "    * 파이썬 패키지를 선언하는 초기화 스크립트\n",
    "    * 패키지에 대한 메타데이터에 해당하는 내용 포함\n",
    "    * 파이썬의 거의 모든 라이브러리에 포함\n",
    "    * 파이썬 버전 3.3부터는 \\_\\_init\\_\\_.py 파일이 없어도 패키지로 인식\n",
    "    * 파이썬 버전 3.3 밑의 하위 버전과 호환을 위해 \\_\\_init\\_\\_.py 파일 생성\n",
    "    * \\_\\_all\\_\\_이라는 리스트형의 변수에 하위 패키지의 이름을 작성"
   ]
  },
  {
   "cell_type": "code",
   "execution_count": 23,
   "metadata": {},
   "outputs": [
    {
     "name": "stdout",
     "output_type": "stream",
     "text": [
      "Writing roboadvisor\\__init__.py\n"
     ]
    }
   ],
   "source": [
    "%%writefile roboadvisor\\__init__.py # 가장 상위 패키지 (__init__: 역할 정해져있음)\n",
    "import analysis # 서브 패키지 import\n",
    "import crawling\n",
    "import database\n",
    "\n",
    "__all__=['analysis', 'crawling', 'database'] # __all__ : 리스트 (묶어줌)"
   ]
  },
  {
   "cell_type": "code",
   "execution_count": 24,
   "metadata": {},
   "outputs": [
    {
     "name": "stdout",
     "output_type": "stream",
     "text": [
      "Writing roboadvisor\\analysis\\__init__.py\n"
     ]
    }
   ],
   "source": [
    "%%writefile roboadvisor\\analysis\\__init__.py # 각 패키지\n",
    "from.import series\n",
    "from.import statics\n",
    "\n",
    "__all__=['series', 'statics']"
   ]
  },
  {
   "cell_type": "code",
   "execution_count": 25,
   "metadata": {},
   "outputs": [
    {
     "name": "stdout",
     "output_type": "stream",
     "text": [
      "Writing roboadvisor\\crawling\\__init__.py\n"
     ]
    }
   ],
   "source": [
    "%%writefile roboadvisor\\crawling\\__init__.py\n",
    "from.import parser\n",
    "from.import scrap\n",
    "\n",
    "__all__=['parser', 'scrap']"
   ]
  },
  {
   "cell_type": "code",
   "execution_count": 26,
   "metadata": {},
   "outputs": [
    {
     "name": "stdout",
     "output_type": "stream",
     "text": [
      "Writing roboadvisor\\database\\__init__.py\n"
     ]
    }
   ],
   "source": [
    "%%writefile roboadvisor\\database\\__init__.py\n",
    "from.import connection\n",
    "from.import query\n",
    "\n",
    "__all__=['connection', 'query']"
   ]
  },
  {
   "cell_type": "markdown",
   "metadata": {},
   "source": [
    "## \\_\\_main\\_\\_.py\n",
    "* 패키지 자체를 실행하기 위한 용도\n",
    "* 패키지를 실행시키면 \\_\\_main\\_\\_.py 실행"
   ]
  },
  {
   "cell_type": "code",
   "execution_count": 27,
   "metadata": {},
   "outputs": [
    {
     "name": "stdout",
     "output_type": "stream",
     "text": [
      "Writing roboadvisor\\__main__.py\n"
     ]
    }
   ],
   "source": [
    "%%writefile roboadvisor\\__main__.py # 패키지 자체 실행 (__main__: 사용자 임의)\n",
    "from analysis.series import series_test\n",
    "from crawling.parser import parser_test\n",
    "\n",
    "if __name__=='__main__':\n",
    "    series_test()\n",
    "    parser_test()"
   ]
  },
  {
   "cell_type": "code",
   "execution_count": 28,
   "metadata": {},
   "outputs": [
    {
     "name": "stdout",
     "output_type": "stream",
     "text": [
      "series\n",
      "parser\n"
     ]
    }
   ],
   "source": [
    "!python roboadvisor # 패키지명"
   ]
  }
 ],
 "metadata": {
  "kernelspec": {
   "display_name": "Python 3",
   "language": "python",
   "name": "python3"
  },
  "language_info": {
   "codemirror_mode": {
    "name": "ipython",
    "version": 3
   },
   "file_extension": ".py",
   "mimetype": "text/x-python",
   "name": "python",
   "nbconvert_exporter": "python",
   "pygments_lexer": "ipython3",
   "version": "3.8.8"
  }
 },
 "nbformat": 4,
 "nbformat_minor": 4
}

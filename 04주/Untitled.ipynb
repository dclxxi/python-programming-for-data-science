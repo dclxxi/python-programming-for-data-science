{
 "cells": [
  {
   "cell_type": "code",
   "execution_count": 2,
   "id": "27ebb732",
   "metadata": {},
   "outputs": [
    {
     "name": "stdout",
     "output_type": "stream",
     "text": [
      "[1, 2] [3] [4, 5, 6]\n",
      "[1, 2, 3, 4, 5, 6]\n"
     ]
    }
   ],
   "source": [
    "list_1 = [[1,2], [3], [4,5,6]]\n",
    "a,b,c = list_1\n",
    "print(a, b, c)\n",
    "list_2 = a + b + c\n",
    " \n",
    "print(list_2)"
   ]
  },
  {
   "cell_type": "code",
   "execution_count": 12,
   "id": "6549c6af",
   "metadata": {},
   "outputs": [
    {
     "name": "stdout",
     "output_type": "stream",
     "text": [
      "[1, 2, 3, 4, 5]\n",
      "None\n"
     ]
    }
   ],
   "source": [
    "def sotring_function(list_value):\n",
    "    list=list_value.sort()\n",
    "    print(list_value)\n",
    "    return list_value.sort()\n",
    "\n",
    "print(sotring_function([5, 4, 3, 2, 1]))"
   ]
  },
  {
   "cell_type": "code",
   "execution_count": 14,
   "id": "f3e30e2a",
   "metadata": {},
   "outputs": [
    {
     "name": "stdout",
     "output_type": "stream",
     "text": [
      "YES\n"
     ]
    }
   ],
   "source": [
    "your_answer=\"Yes\"\n",
    "print(your_answer.upper())"
   ]
  },
  {
   "cell_type": "code",
   "execution_count": 16,
   "id": "850b07c8",
   "metadata": {},
   "outputs": [
    {
     "name": "stdout",
     "output_type": "stream",
     "text": [
      "yes\n"
     ]
    }
   ],
   "source": [
    "def is_yes(your_answer):\n",
    "    if your_answer.upper()==\"YES\":\n",
    "        result=your_answer.lower()\n",
    "        return result\n",
    "        \n",
    "print(is_yes(\"Yes\"))"
   ]
  },
  {
   "cell_type": "code",
   "execution_count": 18,
   "id": "9355110f",
   "metadata": {},
   "outputs": [
    {
     "name": "stdout",
     "output_type": "stream",
     "text": [
      "['a', 'p', 'p', 'l']\n",
      "['a', 'p', 'p', 'l', 'e']\n",
      "['apple']\n"
     ]
    }
   ],
   "source": [
    "fruit=list(\"appl\")\n",
    "print(fruit)\n",
    "fruit.append(\"e\")\n",
    "print(fruit)\n",
    "fruit=[\"apple\"]\n",
    "print(fruit)"
   ]
  },
  {
   "cell_type": "code",
   "execution_count": 22,
   "id": "a00d9bba",
   "metadata": {},
   "outputs": [
    {
     "name": "stdout",
     "output_type": "stream",
     "text": [
      "['abcd', 'e', 'f', 'g']\n",
      "abc\n",
      "a\n"
     ]
    }
   ],
   "source": [
    "a=\"abcd e f g\"\n",
    "b=a.split()\n",
    "print(b)\n",
    "c=(a[:3])\n",
    "print(c)\n",
    "d=(b[:3][0][0])\n",
    "print(d)"
   ]
  },
  {
   "cell_type": "code",
   "execution_count": null,
   "id": "b9c9c749",
   "metadata": {},
   "outputs": [],
   "source": []
  }
 ],
 "metadata": {
  "kernelspec": {
   "display_name": "Python 3",
   "language": "python",
   "name": "python3"
  },
  "language_info": {
   "codemirror_mode": {
    "name": "ipython",
    "version": 3
   },
   "file_extension": ".py",
   "mimetype": "text/x-python",
   "name": "python",
   "nbconvert_exporter": "python",
   "pygments_lexer": "ipython3",
   "version": "3.8.8"
  }
 },
 "nbformat": 4,
 "nbformat_minor": 5
}

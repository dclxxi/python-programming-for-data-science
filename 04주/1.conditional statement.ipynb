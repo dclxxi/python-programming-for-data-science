{
 "cells": [
  {
   "cell_type": "code",
   "execution_count": 1,
   "id": "3ec8e7cb",
   "metadata": {},
   "outputs": [
    {
     "name": "stdout",
     "output_type": "stream",
     "text": [
      "Tell me your age?\n",
      "25\n",
      "Welcome to the Club\n"
     ]
    }
   ],
   "source": [
    "# 코드 4-1\n",
    "print(\"Tell me your age?\")\n",
    "myage=int(input())\n",
    "\n",
    "if myage<30:\n",
    "    print(\"Welcome to the Club\")\n",
    "else:\n",
    "    print(\"Oh! No, You are not accepted.\")"
   ]
  },
  {
   "cell_type": "code",
   "execution_count": 2,
   "id": "cc8c88c1",
   "metadata": {},
   "outputs": [
    {
     "name": "stdout",
     "output_type": "stream",
     "text": [
      "Enter Your score:70\n",
      "D\n"
     ]
    }
   ],
   "source": [
    "# 코드 4-2\n",
    "score=int(input(\"Enter Your score:\"))\n",
    "\n",
    "if score>=90:\n",
    "    grade='A'\n",
    "if score>=80:\n",
    "    grade='B'\n",
    "if score>=70:\n",
    "    grade='C'\n",
    "if score>=60:\n",
    "    grade='D'\n",
    "if score<60:\n",
    "    grade='F'\n",
    "    \n",
    "print(grade)"
   ]
  },
  {
   "cell_type": "code",
   "execution_count": 3,
   "id": "e2a9309b",
   "metadata": {},
   "outputs": [
    {
     "name": "stdout",
     "output_type": "stream",
     "text": [
      "Enter Your score:70\n",
      "C\n"
     ]
    }
   ],
   "source": [
    "# 코드 4-3\n",
    "score=int(input(\"Enter Your score:\"))\n",
    "\n",
    "if score>=90: grade='A'\n",
    "elif score>=80: grade='B'\n",
    "elif score>=70: grade='C'\n",
    "elif score>=60: grade='D'\n",
    "else: grade='F'\n",
    "    \n",
    "print(grade)"
   ]
  },
  {
   "cell_type": "code",
   "execution_count": 4,
   "id": "5fe85550",
   "metadata": {},
   "outputs": [
    {
     "name": "stdout",
     "output_type": "stream",
     "text": [
      "당신이 태어난 연도를 입력하세요.\n",
      "2000\n",
      "대학생\n"
     ]
    }
   ],
   "source": [
    "# 코드 4-4 (Lab)\n",
    "print(\"당신이 태어난 연도를 입력하세요.\")\n",
    "birth_year=input()\n",
    "age=2021-int(birth_year)+1\n",
    "\n",
    "if age<=26 and age>=20:\n",
    "    print(\"대학생\")\n",
    "elif age<20 and age>=17:\n",
    "    print(\"고등학생\")\n",
    "elif age<17 and age>=14:\n",
    "    print(\"중학생\")\n",
    "elif age<14 and age>=8:\n",
    "    print(\"초등학생\")\n",
    "else:\n",
    "    print(\"학생이 아닙니다.\")"
   ]
  }
 ],
 "metadata": {
  "kernelspec": {
   "display_name": "Python 3",
   "language": "python",
   "name": "python3"
  },
  "language_info": {
   "codemirror_mode": {
    "name": "ipython",
    "version": 3
   },
   "file_extension": ".py",
   "mimetype": "text/x-python",
   "name": "python",
   "nbconvert_exporter": "python",
   "pygments_lexer": "ipython3",
   "version": "3.8.8"
  }
 },
 "nbformat": 4,
 "nbformat_minor": 5
}

{
 "cells": [
  {
   "cell_type": "markdown",
   "id": "2dbcb615",
   "metadata": {},
   "source": [
    "# 문자열 분리 및 결합"
   ]
  },
  {
   "cell_type": "code",
   "execution_count": 1,
   "id": "bf2dfbca",
   "metadata": {},
   "outputs": [
    {
     "name": "stdout",
     "output_type": "stream",
     "text": [
      "python jquery javascript\n"
     ]
    }
   ],
   "source": [
    "# split: 문자열 분리\n",
    "example='python,jquery,javascript'\n",
    "a, b, c=example.split(',') # 언패킹\n",
    "print(a, b, c)"
   ]
  },
  {
   "cell_type": "code",
   "execution_count": 2,
   "id": "96f29e8a",
   "metadata": {},
   "outputs": [
    {
     "name": "stdout",
     "output_type": "stream",
     "text": [
      "redbluegreenyellow\n"
     ]
    }
   ],
   "source": [
    "# join: 문자열 결합\n",
    "colors=['red', 'blue', 'green', 'yellow'] # 문자열 리스트\n",
    "result=''.join(colors)\n",
    "print(result)"
   ]
  },
  {
   "cell_type": "code",
   "execution_count": 3,
   "id": "fc3b1e97",
   "metadata": {},
   "outputs": [
    {
     "name": "stdout",
     "output_type": "stream",
     "text": [
      "red, blue, green, yellow\n"
     ]
    }
   ],
   "source": [
    "result=', '.join(colors)\n",
    "print(result)"
   ]
  },
  {
   "cell_type": "markdown",
   "id": "53c5d2fc",
   "metadata": {},
   "source": [
    "# List Comparehension"
   ]
  },
  {
   "cell_type": "code",
   "execution_count": 4,
   "id": "5380b6e0",
   "metadata": {},
   "outputs": [
    {
     "name": "stdout",
     "output_type": "stream",
     "text": [
      "[0, 2, 4, 6, 8]\n"
     ]
    }
   ],
   "source": [
    "# 10 이하의 짝수 생성\n",
    "result=[i for i in range(10) if i%2==0] # 포괄형 리스트\n",
    "print(result)"
   ]
  },
  {
   "cell_type": "code",
   "execution_count": 5,
   "id": "31d9cb46",
   "metadata": {},
   "outputs": [
    {
     "name": "stdout",
     "output_type": "stream",
     "text": [
      "[0, 10, 2, 10, 4, 10, 6, 10, 8, 10]\n"
     ]
    }
   ],
   "source": [
    "# if를 앞으로 보내고, else와 함께 사용\n",
    "result=[i if i%2==0 else 10 for i in range(10)]\n",
    "print(result)"
   ]
  },
  {
   "cell_type": "code",
   "execution_count": 6,
   "id": "949d7266",
   "metadata": {},
   "outputs": [
    {
     "name": "stdout",
     "output_type": "stream",
     "text": [
      "['AD', 'AE', 'AA', 'BD', 'BE', 'BA', 'CD', 'CE', 'CA']\n"
     ]
    }
   ],
   "source": [
    "# 중첩 반복문\n",
    "word1='ABC'\n",
    "word2='DEA'\n",
    "result=[i+j for i in word1 for j in word2]\n",
    "print(result)"
   ]
  },
  {
   "cell_type": "code",
   "execution_count": 7,
   "id": "3caaec24",
   "metadata": {},
   "outputs": [
    {
     "name": "stdout",
     "output_type": "stream",
     "text": [
      "['AD', 'AE', 'BD', 'BE', 'BA', 'CD', 'CE', 'CA']\n"
     ]
    }
   ],
   "source": [
    "# 중첩 반복문 with filtering\n",
    "result=[i+j for i in word1 for j in word2 if not(i==j)]\n",
    "print(result)"
   ]
  },
  {
   "cell_type": "code",
   "execution_count": 8,
   "id": "145d4b41",
   "metadata": {},
   "outputs": [
    {
     "name": "stdout",
     "output_type": "stream",
     "text": [
      "[['AD', 'BD', 'CD'], ['AE', 'BE', 'CE'], ['AA', 'BA', 'CA']]\n"
     ]
    }
   ],
   "source": [
    "# 이차원 리스트 - word2의 j가 고정\n",
    "result=[[i+j for i in word1] for j in word2]\n",
    "print(result)"
   ]
  },
  {
   "cell_type": "code",
   "execution_count": 9,
   "id": "aded1663",
   "metadata": {},
   "outputs": [
    {
     "name": "stdout",
     "output_type": "stream",
     "text": [
      "[['AD', 'AE', 'AA'], ['BD', 'BE', 'BA'], ['CD', 'CE', 'CA']]\n"
     ]
    }
   ],
   "source": [
    "# 이차원 리스트 - word1을 고정하고 싶다면?\n",
    "result=[[j+i for i in word2] for j in word1]\n",
    "print(result)"
   ]
  },
  {
   "cell_type": "code",
   "execution_count": 10,
   "id": "7487ae51",
   "metadata": {},
   "outputs": [
    {
     "name": "stdout",
     "output_type": "stream",
     "text": [
      "24.40390968322754\n"
     ]
    }
   ],
   "source": [
    "# 벡터와 스칼라의 곱\n",
    "# 8-1 loop (일반 반복문+리스트)\n",
    "import time # 시간 측정\n",
    "\n",
    "start=time.time()\n",
    "\n",
    "def scalar_vector_product(scalar, vector):\n",
    "    result=[]\n",
    "    for value in vector:\n",
    "        result.append(scalar*value)\n",
    "    return result\n",
    "\n",
    "iteration_max=10000\n",
    "\n",
    "vector=list(range(iteration_max))\n",
    "scalar=2\n",
    "\n",
    "for _ in range(iteration_max):\n",
    "    scalar_vector_product(scalar, vector)\n",
    "    \n",
    "end=time.time()\n",
    "print(end-start)"
   ]
  },
  {
   "cell_type": "code",
   "execution_count": 11,
   "id": "5e1dfe6e",
   "metadata": {},
   "outputs": [
    {
     "name": "stdout",
     "output_type": "stream",
     "text": [
      "18.478574514389038\n"
     ]
    }
   ],
   "source": [
    "# 벡터와 스칼라의 곱\n",
    "# 8-2 list comprehension\n",
    "start=time.time()\n",
    "\n",
    "iteration_max=10000\n",
    "\n",
    "scalar=2\n",
    "\n",
    "for _ in range(iteration_max):\n",
    "    [scalar*value for value in range(iteration_max)]\n",
    "    \n",
    "end=time.time()\n",
    "print(end-start) # 코드 + 실행 시간 짧아짐"
   ]
  },
  {
   "cell_type": "markdown",
   "id": "d0aff668",
   "metadata": {},
   "source": [
    "## emuerate\n",
    "인덱스를 붙여 리스트 값 추출"
   ]
  },
  {
   "cell_type": "code",
   "execution_count": 12,
   "id": "3bfc6202",
   "metadata": {},
   "outputs": [
    {
     "name": "stdout",
     "output_type": "stream",
     "text": [
      "0 tic\n",
      "1 tac\n",
      "2 toe\n"
     ]
    }
   ],
   "source": [
    "for i, v in enumerate(['tic', 'tac', 'toe']): # 요소 하나씩 추출\n",
    "    print(i, v)"
   ]
  },
  {
   "cell_type": "code",
   "execution_count": 13,
   "id": "cf11eb55",
   "metadata": {},
   "outputs": [
    {
     "name": "stdout",
     "output_type": "stream",
     "text": [
      "{0: 'TEAMLAB', 1: 'is', 2: 'an', 3: 'academic', 4: 'institue', 5: 'located', 6: 'in', 7: 'South', 8: 'Korea'}\n"
     ]
    }
   ],
   "source": [
    "dic={i:j for i, j in enumerate (\n",
    "    'TEAMLAB is an academic institue located in South Korea'.split())} # 단어 단위\n",
    "print(dic)"
   ]
  },
  {
   "cell_type": "markdown",
   "id": "dd1b41d5",
   "metadata": {},
   "source": [
    "## zip\n",
    "두 그룹의 요소들을 서로 엮음"
   ]
  },
  {
   "cell_type": "code",
   "execution_count": 14,
   "id": "fa4522f3",
   "metadata": {},
   "outputs": [
    {
     "name": "stdout",
     "output_type": "stream",
     "text": [
      "a1 b1\n",
      "a2 b2\n",
      "a3 b3\n"
     ]
    }
   ],
   "source": [
    "alist=['a1', 'a2', 'a3']\n",
    "blist=['b1', 'b2', 'b3']\n",
    "for a, b in zip(alist, blist): # 언패킹 (병렬 형태로 각 값 추출)\n",
    "    print(a, b)"
   ]
  },
  {
   "cell_type": "code",
   "execution_count": 15,
   "id": "13dfeb4b",
   "metadata": {},
   "outputs": [
    {
     "name": "stdout",
     "output_type": "stream",
     "text": [
      "[('a1', 'b1'), ('a2', 'b2'), ('a3', 'b3')]\n"
     ]
    }
   ],
   "source": [
    "ablist=list(zip(alist, blist)) # 리스트로 합쳐줌\n",
    "print(ablist)"
   ]
  },
  {
   "cell_type": "code",
   "execution_count": 16,
   "id": "a3df06c2",
   "metadata": {},
   "outputs": [
    {
     "name": "stdout",
     "output_type": "stream",
     "text": [
      "(1, 10, 100) (2, 20, 200) (3, 30, 300)\n"
     ]
    }
   ],
   "source": [
    "a, b, c=zip((1, 2, 3), (10, 20, 30), (100, 200, 300))\n",
    "print(a, b, c)"
   ]
  },
  {
   "cell_type": "code",
   "execution_count": 17,
   "id": "dedb5d04",
   "metadata": {},
   "outputs": [
    {
     "data": {
      "text/plain": [
       "[6, 60, 600]"
      ]
     },
     "execution_count": 17,
     "metadata": {},
     "output_type": "execute_result"
    }
   ],
   "source": [
    "[sum(x) for x in zip(a, b, c)]"
   ]
  },
  {
   "cell_type": "code",
   "execution_count": 18,
   "id": "7b422c6f",
   "metadata": {},
   "outputs": [
    {
     "name": "stdout",
     "output_type": "stream",
     "text": [
      "{1: 'hong', 2: 'gil', 3: 'dong', 4: 'nim'}\n"
     ]
    }
   ],
   "source": [
    "no=[1, 2, 3, 4]\n",
    "name=['hong', 'gil', 'dong', 'nim']\n",
    "dic={}\n",
    "\n",
    "for no, name in zip(no, name):\n",
    "    dic[no]=name\n",
    "    \n",
    "print(dic)"
   ]
  },
  {
   "cell_type": "code",
   "execution_count": 19,
   "id": "d8624844",
   "metadata": {},
   "outputs": [
    {
     "name": "stdout",
     "output_type": "stream",
     "text": [
      "0 a1 b1\n",
      "1 a2 b2\n",
      "2 a3 b3\n"
     ]
    }
   ],
   "source": [
    "for i, (a, b) in enumerate(zip(alist, blist)): # 인덱스 생성\n",
    "    print(i, a, b)"
   ]
  },
  {
   "cell_type": "markdown",
   "id": "66832c56",
   "metadata": {},
   "source": [
    "## lambda 함수\n",
    "익명의 함수"
   ]
  },
  {
   "cell_type": "code",
   "execution_count": 20,
   "id": "661bc94a",
   "metadata": {},
   "outputs": [
    {
     "name": "stdout",
     "output_type": "stream",
     "text": [
      "5\n"
     ]
    }
   ],
   "source": [
    "f=lambda x, y: x+y\n",
    "print(f(1, 4))"
   ]
  },
  {
   "cell_type": "code",
   "execution_count": 21,
   "id": "9339fe41",
   "metadata": {},
   "outputs": [
    {
     "name": "stdout",
     "output_type": "stream",
     "text": [
      "5\n"
     ]
    }
   ],
   "source": [
    "print((lambda x, y: x+y)(1, 4)) # (1, 4): 매개변수"
   ]
  },
  {
   "cell_type": "markdown",
   "id": "384820b5",
   "metadata": {},
   "source": [
    "## map 함수\n",
    "시퀀스 자료형의 요소에 같은 함수 적용\n",
    "\n",
    "map(함수, 시퀀스자료)"
   ]
  },
  {
   "cell_type": "code",
   "execution_count": 22,
   "id": "51d12037",
   "metadata": {},
   "outputs": [
    {
     "name": "stdout",
     "output_type": "stream",
     "text": [
      "[1, 4, 9, 16, 25]\n"
     ]
    }
   ],
   "source": [
    "ex=[1, 2, 3, 4, 5]\n",
    "f=lambda x: x**2\n",
    "print(list(map(f, ex)))"
   ]
  },
  {
   "cell_type": "code",
   "execution_count": 23,
   "id": "12396e64",
   "metadata": {},
   "outputs": [
    {
     "data": {
      "text/plain": [
       "[1, 4, 9, 16, 25]"
      ]
     },
     "execution_count": 23,
     "metadata": {},
     "output_type": "execute_result"
    }
   ],
   "source": [
    "# 리스트 컴프리헨션\n",
    "[x ** 2 for x in ex]"
   ]
  },
  {
   "cell_type": "code",
   "execution_count": 24,
   "id": "0d4c1ec0",
   "metadata": {},
   "outputs": [
    {
     "data": {
      "text/plain": [
       "[2, 4, 6, 8, 10]"
      ]
     },
     "execution_count": 24,
     "metadata": {},
     "output_type": "execute_result"
    }
   ],
   "source": [
    "# 두 개 이상의 시퀀스 자료형에도 적용 가능\n",
    "f=lambda x, y: x+y\n",
    "list(map(f, ex, ex))"
   ]
  },
  {
   "cell_type": "code",
   "execution_count": 25,
   "id": "f36b6f33",
   "metadata": {},
   "outputs": [
    {
     "data": {
      "text/plain": [
       "[2, 4, 6, 8, 10]"
      ]
     },
     "execution_count": 25,
     "metadata": {},
     "output_type": "execute_result"
    }
   ],
   "source": [
    "# 리스트 컴프리헨션\n",
    "[x+y for x, y in zip(ex, ex)]"
   ]
  },
  {
   "cell_type": "code",
   "execution_count": 26,
   "id": "e4dbc597",
   "metadata": {},
   "outputs": [
    {
     "data": {
      "text/plain": [
       "[1, 4, 3, 16, 5]"
      ]
     },
     "execution_count": 26,
     "metadata": {},
     "output_type": "execute_result"
    }
   ],
   "source": [
    "# filtering\n",
    "list(map(lambda x: x**2 if x%2==0 else x, ex)) # ex: 결과 적용"
   ]
  },
  {
   "cell_type": "code",
   "execution_count": 27,
   "id": "c75ed8b4",
   "metadata": {},
   "outputs": [
    {
     "data": {
      "text/plain": [
       "[1, 4, 3, 16, 5]"
      ]
     },
     "execution_count": 27,
     "metadata": {},
     "output_type": "execute_result"
    }
   ],
   "source": [
    "# 리스트 컴프리헨션\n",
    "[x**2 if x%2==0 else x for x in ex]"
   ]
  },
  {
   "cell_type": "markdown",
   "id": "a71b95cf",
   "metadata": {},
   "source": [
    "## reduce 함수\n",
    "시퀀스 자료형의 요소에 차례로 함수를 적용하여 결과를 누적/통합\n",
    "\n",
    "reduce(함수, 시퀀스자료, 초기값)"
   ]
  },
  {
   "cell_type": "code",
   "execution_count": 28,
   "id": "9bcc3a74",
   "metadata": {},
   "outputs": [
    {
     "name": "stdout",
     "output_type": "stream",
     "text": [
      "15\n"
     ]
    }
   ],
   "source": [
    "from functools import reduce # 패키지 호출\n",
    "print(reduce(lambda x, y: x+y, [1, 2, 3, 4, 5])) # x: 0부터 시작 (누적과 같은 효과)"
   ]
  },
  {
   "cell_type": "code",
   "execution_count": 29,
   "id": "358c146f",
   "metadata": {},
   "outputs": [
    {
     "name": "stdout",
     "output_type": "stream",
     "text": [
      "15 100\n"
     ]
    }
   ],
   "source": [
    "# 초기값 부여\n",
    "print(reduce(lambda x, y: x+y, [1, 2, 3, 4, 5]), 100) # 100: 초기값 (처음 x 시작 100부터)"
   ]
  },
  {
   "cell_type": "code",
   "execution_count": 30,
   "id": "009eaf0d",
   "metadata": {},
   "outputs": [
    {
     "name": "stdout",
     "output_type": "stream",
     "text": [
      "100\n"
     ]
    }
   ],
   "source": [
    "# 예제. 최대값 구하기\n",
    "f=lambda a, b: a if (a>b) else b\n",
    "print(reduce(f, [1, 100, 2, 55]))"
   ]
  },
  {
   "cell_type": "markdown",
   "id": "d67bf7e5",
   "metadata": {},
   "source": [
    "# 별표(*) 사용"
   ]
  },
  {
   "cell_type": "code",
   "execution_count": 31,
   "id": "f084630e",
   "metadata": {},
   "outputs": [
    {
     "name": "stdout",
     "output_type": "stream",
     "text": [
      "1 (2, 3, 4, 5, 6)\n",
      "<class 'tuple'>\n"
     ]
    }
   ],
   "source": [
    "# 가변 매개변수\n",
    "def asterisk_test(a, *args):\n",
    "    print(a, args)\n",
    "    print(type(args))\n",
    "    \n",
    "asterisk_test(1, 2, 3, 4, 5, 6)"
   ]
  },
  {
   "cell_type": "code",
   "execution_count": 32,
   "id": "9d59bb8a",
   "metadata": {},
   "outputs": [
    {
     "name": "stdout",
     "output_type": "stream",
     "text": [
      "1 {'b': 2, 'c': 3, 'd': 4, 'e': 5, 'f': 6}\n",
      "<class 'dict'>\n"
     ]
    }
   ],
   "source": [
    "# 키워드 가변 매개변수\n",
    "def asterisk_test(a, **kargs):\n",
    "    print(a, kargs)\n",
    "    print(type(kargs))\n",
    "    \n",
    "asterisk_test(1, b=2, c=3, d=4, e=5, f=6) # 딕셔너리"
   ]
  },
  {
   "cell_type": "code",
   "execution_count": 33,
   "id": "47cba8ba",
   "metadata": {},
   "outputs": [
    {
     "name": "stdout",
     "output_type": "stream",
     "text": [
      "1 2 3 4 5 6\n",
      "<class 'tuple'>\n"
     ]
    }
   ],
   "source": [
    "# 언패킹\n",
    "def asterisk_test(a, args): # 튜플 자료형 받음 - 튜플 변수가 됨\n",
    "    print(a, *args) # 언패킹\n",
    "    print(type(args))\n",
    "    \n",
    "asterisk_test(1, (2, 3, 4, 5, 6))"
   ]
  },
  {
   "cell_type": "code",
   "execution_count": 34,
   "id": "18f1f530",
   "metadata": {},
   "outputs": [
    {
     "name": "stdout",
     "output_type": "stream",
     "text": [
      "1 (2, 3, 4, 5, 6)\n",
      "<class 'tuple'>\n"
     ]
    }
   ],
   "source": [
    "def asterisk_test(a, *args): # 패킹\n",
    "    print(a, args)\n",
    "    print(type(args))\n",
    "    \n",
    "asterisk_test(1, *(2, 3, 4, 5, 6)) # 언패킹 (개별 2, 3, 4, 5, 6)"
   ]
  },
  {
   "cell_type": "code",
   "execution_count": 35,
   "id": "d4a8b893",
   "metadata": {},
   "outputs": [
    {
     "name": "stdout",
     "output_type": "stream",
     "text": [
      "[1, 2] [3, 4] [5, 6]\n"
     ]
    }
   ],
   "source": [
    "# 튜플의 언패킹\n",
    "a, b, c=([1, 2], [3, 4], [5, 6])\n",
    "print(a, b, c)"
   ]
  },
  {
   "cell_type": "code",
   "execution_count": 36,
   "id": "cc7c6abf",
   "metadata": {},
   "outputs": [
    {
     "name": "stdout",
     "output_type": "stream",
     "text": [
      "[1, 2] [3, 4] [5, 6]\n"
     ]
    }
   ],
   "source": [
    "# asterisk의 사용으로 언패킹\n",
    "data=([1, 2], [3, 4], [5, 6])\n",
    "print(*data)"
   ]
  },
  {
   "cell_type": "code",
   "execution_count": 37,
   "id": "0f14678c",
   "metadata": {},
   "outputs": [
    {
     "name": "stdout",
     "output_type": "stream",
     "text": [
      "(1, 3, 5)\n",
      "9\n",
      "(2, 4, 6)\n",
      "12\n"
     ]
    }
   ],
   "source": [
    "# zip 함수와 함께 사용\n",
    "for data in zip(*[[1, 2], [3, 4], [5, 6]]): # 이차원 리스트\n",
    "    print(data)\n",
    "    print(sum(data))"
   ]
  },
  {
   "cell_type": "code",
   "execution_count": 38,
   "id": "af3a3592",
   "metadata": {},
   "outputs": [
    {
     "name": "stdout",
     "output_type": "stream",
     "text": [
      "10 1 2 3\n"
     ]
    }
   ],
   "source": [
    "# 딕셔너리의 언패킹\n",
    "def asterisk_test(a, b, c, d):\n",
    "    print(a, b, c, d)\n",
    "    \n",
    "data={'b':1, 'c':2, 'd':3} # 딕셔너리\n",
    "asterisk_test(10, **data) # 언패킹 (별 2개)"
   ]
  },
  {
   "cell_type": "code",
   "execution_count": 39,
   "id": "d67f976e",
   "metadata": {},
   "outputs": [
    {
     "name": "stdout",
     "output_type": "stream",
     "text": [
      "5\n"
     ]
    }
   ],
   "source": [
    "# 다른 예제\n",
    "def add(a=0, b=0):\n",
    "    return a+b\n",
    "\n",
    "d={'a':2, 'b':3}\n",
    "print(add(**d)) # 언패킹"
   ]
  },
  {
   "cell_type": "code",
   "execution_count": 40,
   "id": "434c0b95",
   "metadata": {},
   "outputs": [
    {
     "name": "stdout",
     "output_type": "stream",
     "text": [
      "arg3 3\n",
      "arg2 two\n",
      "arg1 1\n"
     ]
    }
   ],
   "source": [
    "# 또 다른 예제\n",
    "def test(arg1, arg2, arg3): # 키 같은 것끼리 값 담김\n",
    "    print('arg3', arg3)\n",
    "    print('arg2', arg2)\n",
    "    print('arg1', arg1)\n",
    "    \n",
    "kwargs={'arg3':3, 'arg2':'two', 'arg1':1} # 딕셔너리\n",
    "test(**kwargs) # 언패킹"
   ]
  }
 ],
 "metadata": {
  "kernelspec": {
   "display_name": "Python 3",
   "language": "python",
   "name": "python3"
  },
  "language_info": {
   "codemirror_mode": {
    "name": "ipython",
    "version": 3
   },
   "file_extension": ".py",
   "mimetype": "text/x-python",
   "name": "python",
   "nbconvert_exporter": "python",
   "pygments_lexer": "ipython3",
   "version": "3.8.8"
  }
 },
 "nbformat": 4,
 "nbformat_minor": 5
}

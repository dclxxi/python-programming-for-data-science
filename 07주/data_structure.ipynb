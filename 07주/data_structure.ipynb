{
 "cells": [
  {
   "cell_type": "markdown",
   "id": "bcb9fd37",
   "metadata": {},
   "source": [
    "# stack"
   ]
  },
  {
   "cell_type": "code",
   "execution_count": 1,
   "id": "d3b2d652",
   "metadata": {},
   "outputs": [
    {
     "data": {
      "text/plain": [
       "[1, 2, 3, 4, 5, 10]"
      ]
     },
     "execution_count": 1,
     "metadata": {},
     "output_type": "execute_result"
    }
   ],
   "source": [
    "a=[1, 2, 3, 4, 5] # 컨테이너: 데이터 타입 상관없이 저장 자료구조\n",
    "a.append(10) # 맨 끝에 추가\n",
    "a"
   ]
  },
  {
   "cell_type": "code",
   "execution_count": 2,
   "id": "05144bb8",
   "metadata": {},
   "outputs": [
    {
     "data": {
      "text/plain": [
       "[1, 2, 3, 4, 5, 10, 20]"
      ]
     },
     "execution_count": 2,
     "metadata": {},
     "output_type": "execute_result"
    }
   ],
   "source": [
    "a.append(20)\n",
    "a"
   ]
  },
  {
   "cell_type": "code",
   "execution_count": 3,
   "id": "d3eb14f5",
   "metadata": {},
   "outputs": [
    {
     "data": {
      "text/plain": [
       "20"
      ]
     },
     "execution_count": 3,
     "metadata": {},
     "output_type": "execute_result"
    }
   ],
   "source": [
    "a.pop() # 가장 최근에 넣은 값 방출"
   ]
  },
  {
   "cell_type": "code",
   "execution_count": 4,
   "id": "2155a5f0",
   "metadata": {},
   "outputs": [
    {
     "data": {
      "text/plain": [
       "10"
      ]
     },
     "execution_count": 4,
     "metadata": {},
     "output_type": "execute_result"
    }
   ],
   "source": [
    "a.pop()"
   ]
  },
  {
   "cell_type": "code",
   "execution_count": 5,
   "id": "8d00f935",
   "metadata": {},
   "outputs": [
    {
     "name": "stdout",
     "output_type": "stream",
     "text": [
      "Input a word:PYTHON\n",
      "['P', 'Y', 'T', 'H', 'O', 'N']\n",
      "['N', 'O', 'H', 'T', 'Y', 'P']\n",
      "NOHTYP\n"
     ]
    }
   ],
   "source": [
    "# 7-1 stack\n",
    "word=input(\"Input a word:\") \n",
    "word_list=list(word) # 리스트 형태로 변환\n",
    "print(word_list)\n",
    "\n",
    "result=[] # 빈 리스트\n",
    "for _ in range(len(word_list)):\n",
    "    result.append(word_list.pop()) # 역순\n",
    "    \n",
    "print(result)\n",
    "print(word[::-1]) # 역순 출력"
   ]
  },
  {
   "cell_type": "markdown",
   "id": "c55d4d7d",
   "metadata": {},
   "source": [
    "# Queue"
   ]
  },
  {
   "cell_type": "code",
   "execution_count": 6,
   "id": "75431cd4",
   "metadata": {},
   "outputs": [
    {
     "data": {
      "text/plain": [
       "[1, 2, 3, 4, 5, 10, 20]"
      ]
     },
     "execution_count": 6,
     "metadata": {},
     "output_type": "execute_result"
    }
   ],
   "source": [
    "a=[1, 2, 3, 4, 5]\n",
    "a.append(10)\n",
    "a.append(20)\n",
    "a"
   ]
  },
  {
   "cell_type": "code",
   "execution_count": 7,
   "id": "d28ba1c9",
   "metadata": {},
   "outputs": [
    {
     "data": {
      "text/plain": [
       "1"
      ]
     },
     "execution_count": 7,
     "metadata": {},
     "output_type": "execute_result"
    }
   ],
   "source": [
    "a.pop(0) # 선입선출"
   ]
  },
  {
   "cell_type": "code",
   "execution_count": 8,
   "id": "32e7e95b",
   "metadata": {},
   "outputs": [
    {
     "data": {
      "text/plain": [
       "2"
      ]
     },
     "execution_count": 8,
     "metadata": {},
     "output_type": "execute_result"
    }
   ],
   "source": [
    "a.pop(0)"
   ]
  },
  {
   "cell_type": "markdown",
   "id": "48f84185",
   "metadata": {},
   "source": [
    "# tuple\n",
    "* 리스트와 유사하지만 변경 불가능한 자료 구조\n",
    "\n",
    "* ()를 사용하여 정의"
   ]
  },
  {
   "cell_type": "code",
   "execution_count": 9,
   "id": "519c7121",
   "metadata": {},
   "outputs": [
    {
     "name": "stdout",
     "output_type": "stream",
     "text": [
      "(1, 2, 3, 1, 2, 3) (1, 2, 3, 1, 2, 3)\n"
     ]
    },
    {
     "data": {
      "text/plain": [
       "3"
      ]
     },
     "execution_count": 9,
     "metadata": {},
     "output_type": "execute_result"
    }
   ],
   "source": [
    "t=(1, 2, 3)\n",
    "print(t+t, t*2) # 자기자신 결합, 반복\n",
    "len(t) # 원소 개수"
   ]
  },
  {
   "cell_type": "code",
   "execution_count": 10,
   "id": "8021a3d7",
   "metadata": {},
   "outputs": [
    {
     "data": {
      "text/plain": [
       "2"
      ]
     },
     "execution_count": 10,
     "metadata": {},
     "output_type": "execute_result"
    }
   ],
   "source": [
    "t[1] # 인덱스 가능"
   ]
  },
  {
   "cell_type": "code",
   "execution_count": 11,
   "id": "e0cabc8a",
   "metadata": {},
   "outputs": [
    {
     "ename": "TypeError",
     "evalue": "'tuple' object does not support item assignment",
     "output_type": "error",
     "traceback": [
      "\u001b[1;31m---------------------------------------------------------------------------\u001b[0m",
      "\u001b[1;31mTypeError\u001b[0m                                 Traceback (most recent call last)",
      "\u001b[1;32m<ipython-input-11-26401e8f288a>\u001b[0m in \u001b[0;36m<module>\u001b[1;34m\u001b[0m\n\u001b[1;32m----> 1\u001b[1;33m \u001b[0mt\u001b[0m\u001b[1;33m[\u001b[0m\u001b[1;36m1\u001b[0m\u001b[1;33m]\u001b[0m\u001b[1;33m=\u001b[0m\u001b[1;36m5\u001b[0m \u001b[1;31m# 값 변경 불가능\u001b[0m\u001b[1;33m\u001b[0m\u001b[1;33m\u001b[0m\u001b[0m\n\u001b[0m",
      "\u001b[1;31mTypeError\u001b[0m: 'tuple' object does not support item assignment"
     ]
    }
   ],
   "source": [
    "t[1]=5 # 값 변경 불가능"
   ]
  },
  {
   "cell_type": "markdown",
   "id": "bbe3e1ab",
   "metadata": {},
   "source": [
    "# tuple indexing"
   ]
  },
  {
   "cell_type": "code",
   "execution_count": 12,
   "id": "fc77ad47",
   "metadata": {},
   "outputs": [
    {
     "name": "stdout",
     "output_type": "stream",
     "text": [
      "1 2\n"
     ]
    }
   ],
   "source": [
    "print(t[0], t[-2])"
   ]
  },
  {
   "cell_type": "markdown",
   "id": "6c0ddf3f",
   "metadata": {},
   "source": [
    "# nested tuple indexing"
   ]
  },
  {
   "cell_type": "code",
   "execution_count": 13,
   "id": "593868c7",
   "metadata": {},
   "outputs": [
    {
     "name": "stdout",
     "output_type": "stream",
     "text": [
      "(1, 2, 3, ('One', 'Two', 'Three'))\n",
      "('One', 'Two', 'Three')\n",
      "Two\n"
     ]
    }
   ],
   "source": [
    "t=(1, 2, 3, ('One', 'Two', 'Three')) # nested: 튜플 안에 다른 튜플\n",
    "print(t)\n",
    "print(t[3])\n",
    "print(t[3][1]) # 중첩 인덱싱"
   ]
  },
  {
   "cell_type": "markdown",
   "id": "a609e6ad",
   "metadata": {},
   "source": [
    "# set\n",
    "* 데이터 중복을 허용하지 않는 자료 구조\n",
    "* 순서가 없는 데이터 집합\n",
    "* 인덱싱 불가"
   ]
  },
  {
   "cell_type": "code",
   "execution_count": 14,
   "id": "74122128",
   "metadata": {},
   "outputs": [
    {
     "name": "stdout",
     "output_type": "stream",
     "text": [
      "{1, 2, 3}\n",
      "{4, 5, 6}\n"
     ]
    }
   ],
   "source": [
    "s1=set([1, 2, 3, 1, 2, 3]) # 리스트를 세트 형태로 변환\n",
    "s2={4, 5, 6} # 중괄호로 선언\n",
    "print(s1) # 중복 허용 X\n",
    "print(s2)"
   ]
  },
  {
   "cell_type": "code",
   "execution_count": 15,
   "id": "78984c36",
   "metadata": {},
   "outputs": [
    {
     "data": {
      "text/plain": [
       "{1, 2, 3}"
      ]
     },
     "execution_count": 15,
     "metadata": {},
     "output_type": "execute_result"
    }
   ],
   "source": [
    "s1.add(1) # 원래 있는 값이므로 무시\n",
    "s1"
   ]
  },
  {
   "cell_type": "code",
   "execution_count": 16,
   "id": "1b949817",
   "metadata": {},
   "outputs": [
    {
     "data": {
      "text/plain": [
       "{2, 3}"
      ]
     },
     "execution_count": 16,
     "metadata": {},
     "output_type": "execute_result"
    }
   ],
   "source": [
    "s1.remove(1) # 특정 요소 삭제\n",
    "s1"
   ]
  },
  {
   "cell_type": "code",
   "execution_count": 17,
   "id": "1690b8dd",
   "metadata": {},
   "outputs": [],
   "source": [
    "s1.update([1, 4, 5, 6, 7]) # 리스트를 세트에 추가"
   ]
  },
  {
   "cell_type": "code",
   "execution_count": 18,
   "id": "4be8c66c",
   "metadata": {},
   "outputs": [
    {
     "data": {
      "text/plain": [
       "{1, 2, 4, 5, 6, 7}"
      ]
     },
     "execution_count": 18,
     "metadata": {},
     "output_type": "execute_result"
    }
   ],
   "source": [
    "s1.discard(3) # 특정 요소 삭제\n",
    "s1"
   ]
  },
  {
   "cell_type": "code",
   "execution_count": 19,
   "id": "15a7f446",
   "metadata": {},
   "outputs": [
    {
     "data": {
      "text/plain": [
       "set()"
      ]
     },
     "execution_count": 19,
     "metadata": {},
     "output_type": "execute_result"
    }
   ],
   "source": [
    "s1.clear() # 요소 모두 삭제\n",
    "s1"
   ]
  },
  {
   "cell_type": "markdown",
   "id": "d143165a",
   "metadata": {},
   "source": [
    "# set operators, methods\n",
    "* 교집합: &, intersection()\n",
    "* 합집합: |, union()\n",
    "* 차집합: -, difference()\n",
    "* 대칭차: ^, symmetric_difference()"
   ]
  },
  {
   "cell_type": "code",
   "execution_count": 20,
   "id": "f92fb642",
   "metadata": {},
   "outputs": [
    {
     "name": "stdout",
     "output_type": "stream",
     "text": [
      "{10, 20, 30}\n",
      "{40, 50, 30}\n"
     ]
    }
   ],
   "source": [
    "s1={10, 20, 20, 30} # 중복 X \n",
    "s2={30, 30, 40, 50}\n",
    "print(s1)\n",
    "print(s2)"
   ]
  },
  {
   "cell_type": "code",
   "execution_count": 21,
   "id": "bc6fe1dc",
   "metadata": {},
   "outputs": [
    {
     "name": "stdout",
     "output_type": "stream",
     "text": [
      "{30}\n",
      "{50, 20, 40, 10, 30}\n",
      "{10, 20}\n",
      "{40, 10, 50, 20}\n"
     ]
    }
   ],
   "source": [
    "print(s1 & s2) # 공통\n",
    "print(s1 | s2) # 모두 (중복 제거)\n",
    "print(s1 - s2) # s1에서 공통 제거\n",
    "print(s1 ^ s2) # 공통 요소 제외 나머지 (순서 상관 X)"
   ]
  },
  {
   "cell_type": "code",
   "execution_count": 22,
   "id": "57e28c8b",
   "metadata": {},
   "outputs": [
    {
     "name": "stdout",
     "output_type": "stream",
     "text": [
      "{30}\n",
      "{50, 20, 40, 10, 30}\n",
      "{10, 20}\n",
      "{40, 10, 50, 20}\n"
     ]
    }
   ],
   "source": [
    "print(s1.intersection(s2))\n",
    "print(s1.union(s2))\n",
    "print(s1.difference(s2))\n",
    "print(s1.symmetric_difference(s2))"
   ]
  },
  {
   "cell_type": "markdown",
   "id": "368c533d",
   "metadata": {},
   "source": [
    "# dictionary\n",
    "* key, value의 쌍으로 구성된 자료 구조\n",
    "* 순서가 없는 데이터\n",
    "* key를 이용하여 value 검색\n",
    "* 동일한 key가 있을 경우 덮어씀"
   ]
  },
  {
   "cell_type": "code",
   "execution_count": 23,
   "id": "176b90a2",
   "metadata": {},
   "outputs": [
    {
     "name": "stdout",
     "output_type": "stream",
     "text": [
      "{20140012: 'Sungchul', 20140059: 'Jiyong', 20140058: 'JaeHong'}\n"
     ]
    }
   ],
   "source": [
    "student_info={20140012:'Sungchul', 20140059:'Jiyong', 20140058:'JaeHong'}\n",
    "print(student_info)"
   ]
  },
  {
   "cell_type": "code",
   "execution_count": 24,
   "id": "dde587cf",
   "metadata": {},
   "outputs": [
    {
     "data": {
      "text/plain": [
       "'Sungchul'"
      ]
     },
     "execution_count": 24,
     "metadata": {},
     "output_type": "execute_result"
    }
   ],
   "source": [
    "student_info[20140012] # key로 값 조회"
   ]
  },
  {
   "cell_type": "code",
   "execution_count": 25,
   "id": "7db9ddbd",
   "metadata": {},
   "outputs": [
    {
     "data": {
      "text/plain": [
       "{20140012: 'Janhyeok',\n",
       " 20140059: 'Jiyong',\n",
       " 20140058: 'JaeHong',\n",
       " 20140039: 'Wonchul'}"
      ]
     },
     "execution_count": 25,
     "metadata": {},
     "output_type": "execute_result"
    }
   ],
   "source": [
    "student_info[20140012]='Janhyeok' # 같은 키면 새로운 값으로 업데이트\n",
    "student_info[20140039]='Wonchul' # 새로운 값 추가\n",
    "student_info"
   ]
  },
  {
   "cell_type": "markdown",
   "id": "115ec287",
   "metadata": {},
   "source": [
    "# dictionary methods"
   ]
  },
  {
   "cell_type": "code",
   "execution_count": 26,
   "id": "b096ac4a",
   "metadata": {},
   "outputs": [
    {
     "data": {
      "text/plain": [
       "{'America': 1, 'Korea': 82, 'China': 86, 'Japan': 81}"
      ]
     },
     "execution_count": 26,
     "metadata": {},
     "output_type": "execute_result"
    }
   ],
   "source": [
    "country_code={'America':1, 'Korea':82, 'China':86, 'Japan':81}\n",
    "country_code"
   ]
  },
  {
   "cell_type": "code",
   "execution_count": 27,
   "id": "6577c571",
   "metadata": {},
   "outputs": [
    {
     "name": "stdout",
     "output_type": "stream",
     "text": [
      "dict_keys(['America', 'Korea', 'China', 'Japan'])\n",
      "dict_values([1, 82, 86, 81])\n",
      "dict_items([('America', 1), ('Korea', 82), ('China', 86), ('Japan', 81)])\n"
     ]
    }
   ],
   "source": [
    "print(country_code.keys()) # 키만 조회\n",
    "print(country_code.values()) # 값만 조회\n",
    "print(country_code.items()) # 전체 딕셔너리 항목 (키, 값 튜플 형태)"
   ]
  },
  {
   "cell_type": "code",
   "execution_count": 28,
   "id": "d88c6e8a",
   "metadata": {},
   "outputs": [
    {
     "data": {
      "text/plain": [
       "True"
      ]
     },
     "execution_count": 28,
     "metadata": {},
     "output_type": "execute_result"
    }
   ],
   "source": [
    "'Korea' in country_code.keys() # 존재 여부 확인"
   ]
  },
  {
   "cell_type": "code",
   "execution_count": 29,
   "id": "02fe9075",
   "metadata": {},
   "outputs": [
    {
     "data": {
      "text/plain": [
       "False"
      ]
     },
     "execution_count": 29,
     "metadata": {},
     "output_type": "execute_result"
    }
   ],
   "source": [
    "'German' in country_code.keys()"
   ]
  },
  {
   "cell_type": "code",
   "execution_count": 30,
   "id": "1c7f7ed4",
   "metadata": {},
   "outputs": [
    {
     "data": {
      "text/plain": [
       "True"
      ]
     },
     "execution_count": 30,
     "metadata": {},
     "output_type": "execute_result"
    }
   ],
   "source": [
    "82 in country_code.values()"
   ]
  },
  {
   "cell_type": "code",
   "execution_count": 31,
   "id": "5d308d1f",
   "metadata": {},
   "outputs": [
    {
     "data": {
      "text/plain": [
       "False"
      ]
     },
     "execution_count": 31,
     "metadata": {},
     "output_type": "execute_result"
    }
   ],
   "source": [
    "49 in country_code.values()"
   ]
  },
  {
   "cell_type": "markdown",
   "id": "0312f8bc",
   "metadata": {},
   "source": [
    "## collections\n",
    "컨테이너 데이터형"
   ]
  },
  {
   "cell_type": "code",
   "execution_count": 32,
   "id": "a7cde686",
   "metadata": {},
   "outputs": [],
   "source": [
    "from collections import deque, OrderedDict, defaultdict, Counter, namedtuple # 추가 자료구조"
   ]
  },
  {
   "cell_type": "markdown",
   "id": "735bdb20",
   "metadata": {},
   "source": [
    "## deque\n",
    "양쪽 끝에서 빠르게 추가와 삭제를 하 수 있는 리스트형 컨테이너"
   ]
  },
  {
   "cell_type": "code",
   "execution_count": 33,
   "id": "c02f9bfc",
   "metadata": {},
   "outputs": [
    {
     "name": "stdout",
     "output_type": "stream",
     "text": [
      "deque([0, 1, 2, 3, 4])\n"
     ]
    }
   ],
   "source": [
    "deque_list=deque() # deque 자료구조로 초기화\n",
    "\n",
    "for i in range(5):\n",
    "    deque_list.append(i) # 데이터 구조에 append\n",
    "    \n",
    "print(deque_list)"
   ]
  },
  {
   "cell_type": "code",
   "execution_count": 34,
   "id": "6daf3617",
   "metadata": {},
   "outputs": [
    {
     "data": {
      "text/plain": [
       "4"
      ]
     },
     "execution_count": 34,
     "metadata": {},
     "output_type": "execute_result"
    }
   ],
   "source": [
    "deque_list.pop() # 가장 마지막에 들어간 것부터 방출"
   ]
  },
  {
   "cell_type": "code",
   "execution_count": 35,
   "id": "2c0ce9e0",
   "metadata": {},
   "outputs": [
    {
     "data": {
      "text/plain": [
       "3"
      ]
     },
     "execution_count": 35,
     "metadata": {},
     "output_type": "execute_result"
    }
   ],
   "source": [
    "deque_list.pop()"
   ]
  },
  {
   "cell_type": "code",
   "execution_count": 36,
   "id": "a578505b",
   "metadata": {},
   "outputs": [
    {
     "data": {
      "text/plain": [
       "2"
      ]
     },
     "execution_count": 36,
     "metadata": {},
     "output_type": "execute_result"
    }
   ],
   "source": [
    "deque_list.pop()"
   ]
  },
  {
   "cell_type": "code",
   "execution_count": 37,
   "id": "79251e67",
   "metadata": {},
   "outputs": [
    {
     "data": {
      "text/plain": [
       "deque([0, 1])"
      ]
     },
     "execution_count": 37,
     "metadata": {},
     "output_type": "execute_result"
    }
   ],
   "source": [
    "deque_list"
   ]
  },
  {
   "cell_type": "code",
   "execution_count": 38,
   "id": "d7602bd1",
   "metadata": {},
   "outputs": [
    {
     "name": "stdout",
     "output_type": "stream",
     "text": [
      "deque([4, 3, 2, 1, 0])\n"
     ]
    }
   ],
   "source": [
    "deque_list=deque() # 링크드 리스트 형태 (다음 요소 주소 서로 연결)\n",
    "\n",
    "for i in range(5):\n",
    "    deque_list.appendleft(i) # 먼저 들어간게 먼저 출력되도록 (왼쪽에 추가)\n",
    "    \n",
    "print(deque_list)"
   ]
  },
  {
   "cell_type": "code",
   "execution_count": 39,
   "id": "58a02f24",
   "metadata": {},
   "outputs": [
    {
     "data": {
      "text/plain": [
       "deque([1, 0, 4, 3, 2])"
      ]
     },
     "execution_count": 39,
     "metadata": {},
     "output_type": "execute_result"
    }
   ],
   "source": [
    "deque_list.rotate(2) # 값 위치 변경 (2칸씩)\n",
    "deque_list"
   ]
  },
  {
   "cell_type": "code",
   "execution_count": 40,
   "id": "2cc03fd3",
   "metadata": {},
   "outputs": [
    {
     "data": {
      "text/plain": [
       "deque([4, 3, 2, 1, 0])"
      ]
     },
     "execution_count": 40,
     "metadata": {},
     "output_type": "execute_result"
    }
   ],
   "source": [
    "deque_list.rotate(3)\n",
    "deque_list"
   ]
  },
  {
   "cell_type": "code",
   "execution_count": 41,
   "id": "f2971f41",
   "metadata": {},
   "outputs": [
    {
     "data": {
      "text/plain": [
       "deque([0, 1, 2, 3, 4])"
      ]
     },
     "execution_count": 41,
     "metadata": {},
     "output_type": "execute_result"
    }
   ],
   "source": [
    "deque(reversed(deque_list)) # 요소 위치 반전"
   ]
  },
  {
   "cell_type": "code",
   "execution_count": 42,
   "id": "4890c63c",
   "metadata": {},
   "outputs": [
    {
     "data": {
      "text/plain": [
       "deque([4, 3, 2, 1, 0, 5, 6, 7])"
      ]
     },
     "execution_count": 42,
     "metadata": {},
     "output_type": "execute_result"
    }
   ],
   "source": [
    "deque_list.extend([5, 6, 7]) # 새 요소 추가\n",
    "deque_list"
   ]
  },
  {
   "cell_type": "code",
   "execution_count": 43,
   "id": "1dc7375d",
   "metadata": {},
   "outputs": [
    {
     "data": {
      "text/plain": [
       "deque([9, 8, 4, 3, 2, 1, 0, 5, 6, 7])"
      ]
     },
     "execution_count": 43,
     "metadata": {},
     "output_type": "execute_result"
    }
   ],
   "source": [
    "deque_list.extendleft([8, 9]) # 왼쪽부터 확장 (8 - 9 순서로)\n",
    "deque_list"
   ]
  },
  {
   "cell_type": "markdown",
   "id": "3f45c8ef",
   "metadata": {},
   "source": [
    "## OrderedDict\n",
    "항목이 추가된 순서를 기억하는 딕셔너리 서브 클래스"
   ]
  },
  {
   "cell_type": "code",
   "execution_count": 44,
   "id": "1648bdc4",
   "metadata": {},
   "outputs": [
    {
     "name": "stdout",
     "output_type": "stream",
     "text": [
      "x 100\n",
      "l 500\n",
      "y 200\n",
      "z 300\n"
     ]
    }
   ],
   "source": [
    "d={} # 일반 딕셔너리로 선언\n",
    "d['x']=100\n",
    "d['l']=500\n",
    "d['y']=200\n",
    "d['z']=300\n",
    "\n",
    "for k, v in d.items(): # 딕셔너리 아이템 차례로 읽음 (3.7 이후 - 생성 순서로 형성)\n",
    "    print(k, v)"
   ]
  },
  {
   "cell_type": "code",
   "execution_count": 45,
   "id": "a3e91f65",
   "metadata": {},
   "outputs": [
    {
     "name": "stdout",
     "output_type": "stream",
     "text": [
      "x 100\n",
      "y 200\n",
      "z 300\n",
      "l 400\n"
     ]
    }
   ],
   "source": [
    "d=OrderedDict()\n",
    "d['x']=100\n",
    "d['y']=200\n",
    "d['z']=300\n",
    "d['l']=400\n",
    "\n",
    "for k, v in d.items(): # 생성 순서로 형성\n",
    "    print(k, v)"
   ]
  },
  {
   "cell_type": "code",
   "execution_count": 46,
   "id": "a69bf811",
   "metadata": {},
   "outputs": [
    {
     "name": "stdout",
     "output_type": "stream",
     "text": [
      "l 400\n",
      "x 100\n",
      "y 200\n",
      "z 300\n"
     ]
    }
   ],
   "source": [
    "def sort_by_key(t):\n",
    "    return t[0] # 인덱스를 기준으로 정렬\n",
    "\n",
    "d=dict()\n",
    "d['x']=100\n",
    "d['y']=200\n",
    "d['z']=300\n",
    "d['l']=400\n",
    "\n",
    "# OrderedDict 객체 모든 아이템들을 sort_by_key가 반환해 준 대로 출력\n",
    "for k, v in OrderedDict(sorted(d.items(), key=sort_by_key)).items(): # 모든 아이템 출력\n",
    "    print(k, v)"
   ]
  },
  {
   "cell_type": "code",
   "execution_count": 47,
   "id": "99e36af0",
   "metadata": {},
   "outputs": [
    {
     "data": {
      "text/plain": [
       "[('l', 400), ('x', 100), ('y', 200), ('z', 300)]"
      ]
     },
     "execution_count": 47,
     "metadata": {},
     "output_type": "execute_result"
    }
   ],
   "source": [
    "sorted(d.items(), key=sort_by_key)"
   ]
  },
  {
   "cell_type": "code",
   "execution_count": 48,
   "id": "d9da9a76",
   "metadata": {},
   "outputs": [
    {
     "name": "stdout",
     "output_type": "stream",
     "text": [
      "x 100\n",
      "y 200\n",
      "z 300\n",
      "l 400\n"
     ]
    }
   ],
   "source": [
    "def sort_by_key(t):\n",
    "    return t[1] # 값을 기준으로 정렬\n",
    "\n",
    "d=dict()\n",
    "d['x']=100\n",
    "d['y']=200\n",
    "d['z']=300\n",
    "d['l']=400\n",
    "\n",
    "for k, v in OrderedDict(sorted(d.items(), key=sort_by_key)).items():\n",
    "    print(k, v)"
   ]
  },
  {
   "cell_type": "markdown",
   "id": "7a34045d",
   "metadata": {},
   "source": [
    "## defaultdict\n",
    "누락된 값을 제공하기 위해 팩토리 함수를 호출하는 딕셔너리 서브 클래스"
   ]
  },
  {
   "cell_type": "code",
   "execution_count": 49,
   "id": "b981e232",
   "metadata": {},
   "outputs": [
    {
     "ename": "KeyError",
     "evalue": "'first'",
     "output_type": "error",
     "traceback": [
      "\u001b[1;31m---------------------------------------------------------------------------\u001b[0m",
      "\u001b[1;31mKeyError\u001b[0m                                  Traceback (most recent call last)",
      "\u001b[1;32m<ipython-input-49-b7ac2f7d1a2c>\u001b[0m in \u001b[0;36m<module>\u001b[1;34m\u001b[0m\n\u001b[0;32m      1\u001b[0m \u001b[0md\u001b[0m\u001b[1;33m=\u001b[0m\u001b[0mdict\u001b[0m\u001b[1;33m(\u001b[0m\u001b[1;33m)\u001b[0m\u001b[1;33m\u001b[0m\u001b[1;33m\u001b[0m\u001b[0m\n\u001b[1;32m----> 2\u001b[1;33m \u001b[0mprint\u001b[0m\u001b[1;33m(\u001b[0m\u001b[0md\u001b[0m\u001b[1;33m[\u001b[0m\u001b[1;34m\"first\"\u001b[0m\u001b[1;33m]\u001b[0m\u001b[1;33m)\u001b[0m \u001b[1;31m# 키에 값이 없으므로 오류\u001b[0m\u001b[1;33m\u001b[0m\u001b[1;33m\u001b[0m\u001b[0m\n\u001b[0m",
      "\u001b[1;31mKeyError\u001b[0m: 'first'"
     ]
    }
   ],
   "source": [
    "d=dict()\n",
    "print(d[\"first\"]) # 키에 값이 없으므로 오류"
   ]
  },
  {
   "cell_type": "code",
   "execution_count": 50,
   "id": "0e3c7207",
   "metadata": {},
   "outputs": [
    {
     "name": "stdout",
     "output_type": "stream",
     "text": [
      "0\n"
     ]
    }
   ],
   "source": [
    "d=defaultdict(lambda:0) # lambda: 이름 없이 사용하는 한 줄 짜리 함수 (반환 값 0) \n",
    "print(d[\"first\"])"
   ]
  },
  {
   "cell_type": "code",
   "execution_count": 51,
   "id": "a09d3b34",
   "metadata": {},
   "outputs": [
    {
     "name": "stdout",
     "output_type": "stream",
     "text": [
      "dict_items([('yellow', [1, 3]), ('blue', [2, 4]), ('red', [1])])\n"
     ]
    }
   ],
   "source": [
    "# 7-7: list를 default_factory로 사용. 키-값 시퀀스를 리스트의 딕셔너리로 그룹화\n",
    "s=[('yellow', 1), ('blue', 2), ('yellow', 3), ('blue', 4), ('red', 1)]\n",
    "d=defaultdict(list) # 초기화할 객체의 타입을 리스트로 설정\n",
    "\n",
    "for k, v in s:\n",
    "    d[k].append(v) # 값 추가\n",
    "    \n",
    "print(d.items()) # 완성 항목 조회"
   ]
  },
  {
   "cell_type": "code",
   "execution_count": 52,
   "id": "35f11d6c",
   "metadata": {},
   "outputs": [
    {
     "name": "stdout",
     "output_type": "stream",
     "text": [
      "dict_items([('yellow', {1, 3}), ('blue', {2, 4}), ('red', {1})])\n"
     ]
    }
   ],
   "source": [
    "# set를 default_factory로 사용. 집합의 딕셔너리 생성\n",
    "s=[('yellow', 1), ('blue', 2), ('yellow', 3), ('blue', 4), ('red', 1)]\n",
    "d=defaultdict(set) # 초기화할 객체의 타입을 리스트로 설정\n",
    "\n",
    "for k, v in s:\n",
    "    d[k].add(v) # set: add, list: append\n",
    "    \n",
    "print(d.items()) "
   ]
  },
  {
   "cell_type": "markdown",
   "id": "d179ee9a",
   "metadata": {},
   "source": [
    "## Counter\n",
    "시퀀스 자료형의 데이터 값의 개수를 세는 딕셔너리 서브 클래스"
   ]
  },
  {
   "cell_type": "code",
   "execution_count": 53,
   "id": "452743f0",
   "metadata": {},
   "outputs": [
    {
     "data": {
      "text/plain": [
       "['g', 'a', 'l', 'l', 'a', 'h', 'a', 'd']"
      ]
     },
     "execution_count": 53,
     "metadata": {},
     "output_type": "execute_result"
    }
   ],
   "source": [
    "text=list('gallahad') # 문자열을 리스트 형태로 반환\n",
    "text"
   ]
  },
  {
   "cell_type": "code",
   "execution_count": 54,
   "id": "94aad1e9",
   "metadata": {},
   "outputs": [
    {
     "data": {
      "text/plain": [
       "Counter({'g': 1, 'a': 3, 'l': 2, 'h': 1, 'd': 1})"
      ]
     },
     "execution_count": 54,
     "metadata": {},
     "output_type": "execute_result"
    }
   ],
   "source": [
    "c=Counter(text) # 각 데이터 몇 번 등장하는지 딕셔너리 형태로 생성\n",
    "c"
   ]
  },
  {
   "cell_type": "code",
   "execution_count": 55,
   "id": "e7ba9067",
   "metadata": {},
   "outputs": [
    {
     "data": {
      "text/plain": [
       "3"
      ]
     },
     "execution_count": 55,
     "metadata": {},
     "output_type": "execute_result"
    }
   ],
   "source": [
    "c['a']"
   ]
  },
  {
   "cell_type": "markdown",
   "id": "abf9e92a",
   "metadata": {},
   "source": [
    "## Counter methods"
   ]
  },
  {
   "cell_type": "code",
   "execution_count": 56,
   "id": "7be4937a",
   "metadata": {},
   "outputs": [
    {
     "name": "stdout",
     "output_type": "stream",
     "text": [
      "['a', 'a', 'a', 'a', 'b', 'b']\n"
     ]
    }
   ],
   "source": [
    "# elements(): 각 요소의 개수만큼 리스트형의 결과 출력. 1보다 작으면 무시\n",
    "c=Counter(a=4, b=2, c=0, d=-2)\n",
    "print(list(c.elements())) # 리스트 형태로 출력"
   ]
  },
  {
   "cell_type": "code",
   "execution_count": 57,
   "id": "c7f35274",
   "metadata": {},
   "outputs": [
    {
     "data": {
      "text/plain": [
       "[('a', 5), ('b', 2), ('r', 2)]"
      ]
     },
     "execution_count": 57,
     "metadata": {},
     "output_type": "execute_result"
    }
   ],
   "source": [
    "# most_common(n): 빈도수가 가장 높은 n개의 요소 반환.\n",
    "### n을 생략하면 모든 요소. 개수가 같은 요소는 처음 발견된 것 순서로.\n",
    "Counter('abracadabra').most_common(3)"
   ]
  },
  {
   "cell_type": "code",
   "execution_count": 58,
   "id": "8f6c415f",
   "metadata": {},
   "outputs": [
    {
     "data": {
      "text/plain": [
       "[('a', 5), ('b', 2), ('r', 2), ('c', 1), ('d', 1)]"
      ]
     },
     "execution_count": 58,
     "metadata": {},
     "output_type": "execute_result"
    }
   ],
   "source": [
    "Counter('abracadabra').most_common() # 모든 요소"
   ]
  },
  {
   "cell_type": "code",
   "execution_count": 59,
   "id": "442ebbd1",
   "metadata": {},
   "outputs": [
    {
     "data": {
      "text/plain": [
       "Counter({'a': 3, 'b': 0, 'c': -3, 'd': -6})"
      ]
     },
     "execution_count": 59,
     "metadata": {},
     "output_type": "execute_result"
    }
   ],
   "source": [
    "# subtract: 요소의 개수 빼기\n",
    "c=Counter(a=4, b=2, c=0, d=-2)\n",
    "d=Counter(a=1, b=2, c=3, d=4)\n",
    "c.subtract(d)\n",
    "c"
   ]
  },
  {
   "cell_type": "code",
   "execution_count": 60,
   "id": "2454d00c",
   "metadata": {},
   "outputs": [
    {
     "name": "stdout",
     "output_type": "stream",
     "text": [
      "Counter({'a': 5, 'b': 4, 'c': 3, 'd': 2})\n",
      "Counter({'a': 3})\n",
      "Counter({'b': 2, 'a': 1})\n",
      "Counter({'a': 4, 'd': 4, 'c': 3, 'b': 2})\n"
     ]
    }
   ],
   "source": [
    "# +, -, &, |: 0 이하는 결과에서 제외\n",
    "c=Counter(a=4, b=2, c=0, d=-2)\n",
    "d=Counter(a=1, b=2, c=3, d=4)\n",
    "\n",
    "print(c+d)\n",
    "print(c-d)\n",
    "print(c&d)\n",
    "print(c|d)"
   ]
  },
  {
   "cell_type": "markdown",
   "id": "847c54d4",
   "metadata": {},
   "source": [
    "## namedtuple\n",
    "이름 붙은 필드를 갖는 튜플 서브 클래스를 만드는 팩토리 함수"
   ]
  },
  {
   "cell_type": "code",
   "execution_count": 61,
   "id": "6a340a30",
   "metadata": {},
   "outputs": [
    {
     "data": {
      "text/plain": [
       "Point(x=11, y=22)"
      ]
     },
     "execution_count": 61,
     "metadata": {},
     "output_type": "execute_result"
    }
   ],
   "source": [
    "Point=namedtuple('Point', ['x', 'y']) # namedtuple 타입 (이름: Point, 필드: x, y)\n",
    "p=Point(11, y=22) # 튜플 생성\n",
    "p"
   ]
  },
  {
   "cell_type": "code",
   "execution_count": 62,
   "id": "554302e6",
   "metadata": {},
   "outputs": [
    {
     "data": {
      "text/plain": [
       "33"
      ]
     },
     "execution_count": 62,
     "metadata": {},
     "output_type": "execute_result"
    }
   ],
   "source": [
    "p[0]+p[1]"
   ]
  },
  {
   "cell_type": "code",
   "execution_count": 63,
   "id": "6ce4b22d",
   "metadata": {},
   "outputs": [],
   "source": [
    "x, y=p # unpack"
   ]
  },
  {
   "cell_type": "code",
   "execution_count": 64,
   "id": "daa48872",
   "metadata": {},
   "outputs": [
    {
     "data": {
      "text/plain": [
       "33"
      ]
     },
     "execution_count": 64,
     "metadata": {},
     "output_type": "execute_result"
    }
   ],
   "source": [
    "p.x+p.y # 각 요소에 접근"
   ]
  },
  {
   "cell_type": "markdown",
   "id": "e750a054",
   "metadata": {},
   "source": [
    "## lab:textmining"
   ]
  },
  {
   "cell_type": "code",
   "execution_count": 65,
   "id": "612f263b",
   "metadata": {},
   "outputs": [
    {
     "name": "stdout",
     "output_type": "stream",
     "text": [
      "and 3\n",
      "to 3\n",
      "a 2\n",
      "press 2\n",
      "release 2\n",
      "can 2\n",
      "you 2\n",
      "is 1\n",
      "the 1\n",
      "quickest 1\n",
      "easiest 1\n",
      "way 1\n",
      "get 1\n",
      "free 1\n",
      "publicity. 1\n",
      "if 1\n",
      "well 1\n",
      "written, 1\n",
      "result 1\n",
      "in 1\n",
      "multiple 1\n",
      "published 1\n",
      "articles 1\n",
      "about 1\n",
      "your 1\n",
      "firm 1\n",
      "its 1\n",
      "products. 1\n",
      "that 1\n",
      "mean 1\n",
      "new 1\n",
      "prospects 1\n",
      "contaction 1\n",
      "asking 1\n",
      "sell 1\n",
      "them. 1\n",
      "... 1\n"
     ]
    }
   ],
   "source": [
    "text=\"\"\"A press release is the quickest and easiest way to get free publicity.\n",
    "If well written, a press release can result in multiple published articles about \n",
    "your firm and its products. And that can mean new prospects contaction you asking you \n",
    "to sell to them. ...\"\"\".lower().split() # 소문자로 변경, 띄어쓰기 단위로 구분\n",
    "\n",
    "word_count=defaultdict(lambda:0) # 단어, 등장 횟수 - key, value 형태로\n",
    "\n",
    "for word in text:\n",
    "    word_count[word]+=1 # 같은 word - 1 증가\n",
    "    \n",
    "# 튜플을 받아서 t[1](값)별로 정렬, reverse=True (내림차순)\n",
    "for i, v in OrderedDict(sorted(word_count.items(), key=lambda t: t[1], reverse=True)).items():\n",
    "    print(i, v)"
   ]
  },
  {
   "cell_type": "code",
   "execution_count": 66,
   "id": "b321d102",
   "metadata": {},
   "outputs": [
    {
     "data": {
      "text/plain": [
       "Counter({'a': 2,\n",
       "         'press': 2,\n",
       "         'release': 2,\n",
       "         'is': 1,\n",
       "         'the': 1,\n",
       "         'quickest': 1,\n",
       "         'and': 3,\n",
       "         'easiest': 1,\n",
       "         'way': 1,\n",
       "         'to': 3,\n",
       "         'get': 1,\n",
       "         'free': 1,\n",
       "         'publicity.': 1,\n",
       "         'if': 1,\n",
       "         'well': 1,\n",
       "         'written,': 1,\n",
       "         'can': 2,\n",
       "         'result': 1,\n",
       "         'in': 1,\n",
       "         'multiple': 1,\n",
       "         'published': 1,\n",
       "         'articles': 1,\n",
       "         'about': 1,\n",
       "         'your': 1,\n",
       "         'firm': 1,\n",
       "         'its': 1,\n",
       "         'products.': 1,\n",
       "         'that': 1,\n",
       "         'mean': 1,\n",
       "         'new': 1,\n",
       "         'prospects': 1,\n",
       "         'contaction': 1,\n",
       "         'you': 2,\n",
       "         'asking': 1,\n",
       "         'sell': 1,\n",
       "         'them.': 1,\n",
       "         '...': 1})"
      ]
     },
     "execution_count": 66,
     "metadata": {},
     "output_type": "execute_result"
    }
   ],
   "source": [
    "c=Counter(text)\n",
    "c"
   ]
  },
  {
   "cell_type": "code",
   "execution_count": 67,
   "id": "31b61f89",
   "metadata": {},
   "outputs": [
    {
     "data": {
      "text/plain": [
       "3"
      ]
     },
     "execution_count": 67,
     "metadata": {},
     "output_type": "execute_result"
    }
   ],
   "source": [
    "c['and'] # and 등장 횟수"
   ]
  }
 ],
 "metadata": {
  "kernelspec": {
   "display_name": "Python 3",
   "language": "python",
   "name": "python3"
  },
  "language_info": {
   "codemirror_mode": {
    "name": "ipython",
    "version": 3
   },
   "file_extension": ".py",
   "mimetype": "text/x-python",
   "name": "python",
   "nbconvert_exporter": "python",
   "pygments_lexer": "ipython3",
   "version": "3.8.8"
  }
 },
 "nbformat": 4,
 "nbformat_minor": 5
}

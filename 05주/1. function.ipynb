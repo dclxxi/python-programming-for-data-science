{
 "cells": [
  {
   "cell_type": "markdown",
   "id": "8e43ae20",
   "metadata": {},
   "source": [
    "# 함수 기초"
   ]
  },
  {
   "cell_type": "code",
   "execution_count": 1,
   "id": "e1e023a6",
   "metadata": {},
   "outputs": [
    {
     "name": "stdout",
     "output_type": "stream",
     "text": [
      "사각형 x의 길이: 10\n",
      "사각형 y의 길이: 20\n",
      "사각형의 넓이: 200\n"
     ]
    }
   ],
   "source": [
    "# 5-1. rectangle_area\n",
    "def calculate_rectangle_area(x, y):\n",
    "    return x*y\n",
    "\n",
    "rectangle_x=10\n",
    "rectangle_y=20\n",
    "print(\"사각형 x의 길이:\", rectangle_x)\n",
    "print(\"사각형 y의 길이:\", rectangle_y)\n",
    "\n",
    "#넓이를 구하는 함수 호출\n",
    "print(\"사각형의 넓이:\", calculate_rectangle_area(rectangle_x, rectangle_y))"
   ]
  },
  {
   "cell_type": "code",
   "execution_count": 2,
   "id": "8c039e63",
   "metadata": {},
   "outputs": [
    {
     "name": "stdout",
     "output_type": "stream",
     "text": [
      "151\n"
     ]
    }
   ],
   "source": [
    "# 5-2. function\n",
    "def f(x):\n",
    "    return 2*x+7\n",
    "def g(x):\n",
    "    return x**2\n",
    "\n",
    "x=2\n",
    "print(f(x)+g(x)+f(g(x))+g(f(x)))"
   ]
  },
  {
   "cell_type": "code",
   "execution_count": 3,
   "id": "34189697",
   "metadata": {},
   "outputs": [
    {
     "name": "stdout",
     "output_type": "stream",
     "text": [
      "11\n"
     ]
    }
   ],
   "source": [
    "# 5-3 parameter\n",
    "def f(x):\n",
    "    return 2*x+7\n",
    "\n",
    "print(f(2))"
   ]
  },
  {
   "cell_type": "code",
   "execution_count": 4,
   "id": "efffe4fb",
   "metadata": {},
   "outputs": [
    {
     "name": "stdout",
     "output_type": "stream",
     "text": [
      "35\n",
      "35\n",
      "35\n",
      "35\n"
     ]
    }
   ],
   "source": [
    "# 5-4 function_type\n",
    "def a_rectangle_area():     # 매개변수 X, 반환값 X\n",
    "    print(5*7)\n",
    "def b_rectangle_area(x, y): # 매개변수 O, 반환값 X\n",
    "    print(x*y)\n",
    "def c_rectangle_area():     # 매개변수 X, 반환값 O\n",
    "    return (5*7)\n",
    "def d_rectangle_area(x, y): # 매개변수 O, 반환값 O\n",
    "    return (x*y)\n",
    "\n",
    "a_rectangle_area()\n",
    "b_rectangle_area(5, 7)\n",
    "print(c_rectangle_area())\n",
    "print(d_rectangle_area(5, 7))"
   ]
  },
  {
   "cell_type": "markdown",
   "id": "2f41d030",
   "metadata": {},
   "source": [
    "### [Lab] 계산기 함수\n",
    "* 연산자, 두 수를 받아서 덧셈, 뺄셈, 곱셈, 나눗셈을 수행하는 함수"
   ]
  },
  {
   "cell_type": "code",
   "execution_count": 5,
   "id": "fc763d84",
   "metadata": {},
   "outputs": [
    {
     "name": "stdout",
     "output_type": "stream",
     "text": [
      "13\n"
     ]
    }
   ],
   "source": [
    "def calc(op, n1, n2):\n",
    "    result=0\n",
    "    \n",
    "    if op=='+':\n",
    "        result=n1+n2\n",
    "    elif op=='-':\n",
    "        result=n1-n2\n",
    "    elif op=='*':\n",
    "        result=n1*n2\n",
    "    elif op=='/':\n",
    "        result=n1/n2\n",
    "        \n",
    "    return result\n",
    "\n",
    "print(calc('+', 8, 5))"
   ]
  },
  {
   "cell_type": "code",
   "execution_count": 6,
   "id": "784cc850",
   "metadata": {},
   "outputs": [
    {
     "name": "stdout",
     "output_type": "stream",
     "text": [
      "3\n",
      "40\n",
      "1.6\n"
     ]
    }
   ],
   "source": [
    "print(calc('-', 8, 5))\n",
    "print(calc('*', 8, 5))\n",
    "print(calc('/', 8, 5))"
   ]
  },
  {
   "cell_type": "markdown",
   "id": "b0ad7f75",
   "metadata": {},
   "source": [
    "# 함수 심화"
   ]
  },
  {
   "cell_type": "code",
   "execution_count": 7,
   "id": "9246e656",
   "metadata": {},
   "outputs": [
    {
     "name": "stdout",
     "output_type": "stream",
     "text": [
      "9\n",
      "3\n"
     ]
    }
   ],
   "source": [
    "# 5-5 call1\n",
    "def f(x):\n",
    "    y=x\n",
    "    x=5\n",
    "    return y*y\n",
    "\n",
    "x=3\n",
    "print(f(x))\n",
    "print(x)"
   ]
  },
  {
   "cell_type": "code",
   "execution_count": 8,
   "id": "b23b1577",
   "metadata": {},
   "outputs": [
    {
     "name": "stdout",
     "output_type": "stream",
     "text": [
      "[0, 1]\n"
     ]
    }
   ],
   "source": [
    "# 5-6 call2\n",
    "def spam(eggs):\n",
    "    eggs.append(1)\n",
    "    eggs=[2, 3]\n",
    "    \n",
    "ham=[0]\n",
    "spam(ham)\n",
    "print(ham)"
   ]
  },
  {
   "cell_type": "code",
   "execution_count": 9,
   "id": "ed219ac3",
   "metadata": {},
   "outputs": [
    {
     "name": "stdout",
     "output_type": "stream",
     "text": [
      "10\n",
      "In Function: 20\n",
      "In Main: 10\n"
     ]
    },
    {
     "ename": "NameError",
     "evalue": "name 't' is not defined",
     "output_type": "error",
     "traceback": [
      "\u001b[1;31m---------------------------------------------------------------------------\u001b[0m",
      "\u001b[1;31mNameError\u001b[0m                                 Traceback (most recent call last)",
      "\u001b[1;32m<ipython-input-9-c9dc273685ad>\u001b[0m in \u001b[0;36m<module>\u001b[1;34m\u001b[0m\n\u001b[0;32m      8\u001b[0m \u001b[0mtest\u001b[0m\u001b[1;33m(\u001b[0m\u001b[0mx\u001b[0m\u001b[1;33m)\u001b[0m\u001b[1;33m\u001b[0m\u001b[1;33m\u001b[0m\u001b[0m\n\u001b[0;32m      9\u001b[0m \u001b[0mprint\u001b[0m\u001b[1;33m(\u001b[0m\u001b[1;34m\"In Main:\"\u001b[0m\u001b[1;33m,\u001b[0m \u001b[0mx\u001b[0m\u001b[1;33m)\u001b[0m\u001b[1;33m\u001b[0m\u001b[1;33m\u001b[0m\u001b[0m\n\u001b[1;32m---> 10\u001b[1;33m \u001b[0mprint\u001b[0m\u001b[1;33m(\u001b[0m\u001b[1;34m\"In Main:\"\u001b[0m\u001b[1;33m,\u001b[0m \u001b[0mt\u001b[0m\u001b[1;33m)\u001b[0m\u001b[1;33m\u001b[0m\u001b[1;33m\u001b[0m\u001b[0m\n\u001b[0m",
      "\u001b[1;31mNameError\u001b[0m: name 't' is not defined"
     ]
    }
   ],
   "source": [
    "# 5-7 scoping_rule\n",
    "def test(t):\n",
    "    print(x)\n",
    "    t=20\n",
    "    print(\"In Function:\", t)\n",
    "    \n",
    "x=10\n",
    "test(x)\n",
    "print(\"In Main:\", x)\n",
    "print(\"In Main:\", t)"
   ]
  },
  {
   "cell_type": "code",
   "execution_count": 10,
   "id": "c9f011ce",
   "metadata": {},
   "outputs": [
    {
     "name": "stdout",
     "output_type": "stream",
     "text": [
      "I love London!\n",
      "I love Paris!\n"
     ]
    }
   ],
   "source": [
    "# 5-8 local variable\n",
    "def f():\n",
    "    s=\"I love London!\"\n",
    "    print(s)\n",
    "    \n",
    "s=\"I love Paris!\"\n",
    "f()\n",
    "print(s)"
   ]
  },
  {
   "cell_type": "code",
   "execution_count": 11,
   "id": "c8894760",
   "metadata": {},
   "outputs": [
    {
     "name": "stdout",
     "output_type": "stream",
     "text": [
      "I love London!\n",
      "I love London!\n"
     ]
    }
   ],
   "source": [
    "# 5-9 global_variable\n",
    "def f():\n",
    "    global s\n",
    "    s=\"I love London!\"\n",
    "    print(s)\n",
    "    \n",
    "s=\"I love Paris!\"\n",
    "f()\n",
    "print(s)"
   ]
  },
  {
   "cell_type": "code",
   "execution_count": 12,
   "id": "f2742988",
   "metadata": {},
   "outputs": [
    {
     "name": "stdout",
     "output_type": "stream",
     "text": [
      "In Program - 1\n",
      "a: 5 b: 7 a+b: 12\n",
      "In Function\n",
      "a: 5 b: 7 a+b: 12 total: 12\n",
      "After Calculation\n",
      "Total: 0  Sum: 12\n"
     ]
    }
   ],
   "source": [
    "# 5-10 scoping_rule_final\n",
    "def calculate(x, y):\n",
    "    total=x+y # 새로운 값이 할당되어 함수 안 total은 지역 변수가 됨\n",
    "    print(\"In Function\")\n",
    "    print(\"a:\", str(a), \"b:\", str(b), \"a+b:\", str(a+b), \"total:\", str(total))\n",
    "    return total\n",
    "\n",
    "a=5     # a와 b는 전역 변수\n",
    "b=7\n",
    "total=0 # 전역변수 total\n",
    "print(\"In Program - 1\")\n",
    "print(\"a:\", str(a), \"b:\", str(b), \"a+b:\", str(a+b))\n",
    "\n",
    "sum=calculate(a, b)\n",
    "print(\"After Calculation\")\n",
    "print(\"Total:\", str(total), \" Sum:\", str(sum)) # 지역 변수는 전역 변수에 영향을 주지 않음"
   ]
  },
  {
   "cell_type": "code",
   "execution_count": 13,
   "id": "abaf33d4",
   "metadata": {},
   "outputs": [
    {
     "name": "stdout",
     "output_type": "stream",
     "text": [
      "Input Number for Factorial Calculation: 5\n",
      "120\n"
     ]
    }
   ],
   "source": [
    "# 5-11 factorial\n",
    "def factorial(n):\n",
    "    if n==1:\n",
    "        return 1\n",
    "    else:\n",
    "        return n*factorial(n-1)\n",
    "    \n",
    "print(factorial(int(input(\"Input Number for Factorial Calculation: \"))))"
   ]
  },
  {
   "cell_type": "markdown",
   "id": "890b849f",
   "metadata": {},
   "source": [
    "# 함수의 인수"
   ]
  },
  {
   "cell_type": "code",
   "execution_count": 14,
   "id": "8c8270da",
   "metadata": {},
   "outputs": [
    {
     "name": "stdout",
     "output_type": "stream",
     "text": [
      "Hello Andy, My name is Sun\n",
      "Hello TEAMLAB, My name is Sungchul\n"
     ]
    }
   ],
   "source": [
    "# 5-12 keyword\n",
    "def print_something(my_name, your_name):\n",
    "    print(\"Hello {0}, My name is {1}\".format(your_name, my_name))\n",
    "    \n",
    "print_something(\"Sun\", \"Andy\")\n",
    "print_something(your_name=\"TEAMLAB\", my_name=\"Sungchul\")"
   ]
  },
  {
   "cell_type": "code",
   "execution_count": 15,
   "id": "877e8f8c",
   "metadata": {},
   "outputs": [
    {
     "name": "stdout",
     "output_type": "stream",
     "text": [
      "Hello Sun, My name is Sungchul\n",
      "Hello TEAMLAB, My name is Sungchul\n"
     ]
    }
   ],
   "source": [
    "# 5-13 default\n",
    "def print_something_2(my_name, your_name=\"TEAMLAB\"):\n",
    "    print(\"Hello {0}, My name is {1}\".format(your_name, my_name))\n",
    "    \n",
    "print_something_2(\"Sungchul\", \"Sun\")\n",
    "print_something_2(\"Sungchul\")"
   ]
  },
  {
   "cell_type": "code",
   "execution_count": 16,
   "id": "25378494",
   "metadata": {},
   "outputs": [
    {
     "name": "stdout",
     "output_type": "stream",
     "text": [
      "15\n"
     ]
    }
   ],
   "source": [
    "# 5-14 asterisk1\n",
    "#del sum # 다른 곳에서 같은 이름을 재사용 (del로 객체 삭제)\n",
    "def asterisk_test(a, b, *args):\n",
    "    return a+b+sum(args)\n",
    "\n",
    "print(asterisk_test(1, 2, 3, 4, 5))"
   ]
  },
  {
   "cell_type": "code",
   "execution_count": 17,
   "id": "478f2f73",
   "metadata": {},
   "outputs": [
    {
     "name": "stdout",
     "output_type": "stream",
     "text": [
      "(3, 4, 5) <class 'tuple'>\n"
     ]
    }
   ],
   "source": [
    "# 5-15 asterisk2\n",
    "def asterisk_test(a, b, *args):\n",
    "    print(args, type(args))\n",
    "\n",
    "asterisk_test(1, 2, 3, 4, 5)"
   ]
  },
  {
   "cell_type": "code",
   "execution_count": 18,
   "id": "1ed3d14d",
   "metadata": {},
   "outputs": [
    {
     "name": "stdout",
     "output_type": "stream",
     "text": [
      "(3, 4, [5])\n"
     ]
    }
   ],
   "source": [
    "# 5-16 asterisk3\n",
    "def asterisk_test_2(*args):\n",
    "    x, y, *z=args\n",
    "    return x, y, z\n",
    "\n",
    "print(asterisk_test_2(3, 4, 5))"
   ]
  },
  {
   "cell_type": "code",
   "execution_count": 19,
   "id": "c3154b7e",
   "metadata": {},
   "outputs": [
    {
     "name": "stdout",
     "output_type": "stream",
     "text": [
      "(3, 4, [5, 10, 20])\n"
     ]
    }
   ],
   "source": [
    "# 5-17 asterisk4\n",
    "print(asterisk_test_2(3, 4, 5, 10, 20))"
   ]
  },
  {
   "cell_type": "code",
   "execution_count": 20,
   "id": "b2ed9df0",
   "metadata": {},
   "outputs": [
    {
     "name": "stdout",
     "output_type": "stream",
     "text": [
      "{'first': 3, 'second': 4, 'third': 5} <class 'dict'>\n",
      "First value is 3\n",
      "First value is 4\n",
      "First value is 5\n"
     ]
    }
   ],
   "source": [
    "# 5-18 kwargs\n",
    "def kwargs_test(**kwargs):\n",
    "    print(kwargs, type(kwargs))\n",
    "    print(\"First value is {first}\".format(**kwargs))\n",
    "    print(\"First value is {second}\".format(**kwargs))\n",
    "    print(\"First value is {third}\".format(**kwargs))\n",
    "    \n",
    "kwargs_test(first=3, second=4, third=5)"
   ]
  },
  {
   "cell_type": "markdown",
   "id": "a8587de4",
   "metadata": {},
   "source": [
    "## 반환값이 여러개 있는 함수\n",
    "* 여러 반환값을 사용할 경우 튜플 형탤 반환"
   ]
  },
  {
   "cell_type": "code",
   "execution_count": 21,
   "id": "0e31d87c",
   "metadata": {},
   "outputs": [
    {
     "name": "stdout",
     "output_type": "stream",
     "text": [
      "(13, 3)\n"
     ]
    }
   ],
   "source": [
    "def puls_and_minus(n1, n2):\n",
    "        return n1+n2, n1-n2 # 2개 반환 (튜플 형태)\n",
    "    \n",
    "result=puls_and_minus(8, 5)\n",
    "print(result)"
   ]
  },
  {
   "cell_type": "code",
   "execution_count": 22,
   "id": "d668146b",
   "metadata": {},
   "outputs": [
    {
     "name": "stdout",
     "output_type": "stream",
     "text": [
      "plus: 13, minus: 3\n"
     ]
    }
   ],
   "source": [
    "plus, minus=puls_and_minus(8, 5)\n",
    "print(\"plus: {0}, minus: {1}\".format(plus, minus))"
   ]
  },
  {
   "cell_type": "markdown",
   "id": "4a18ac7d",
   "metadata": {},
   "source": [
    "## [Lab] 가변 인수의 평균값 계산\n",
    "* 가변 매개변수로 들어오는 모든 수의 평균값 계산"
   ]
  },
  {
   "cell_type": "code",
   "execution_count": 23,
   "id": "357f6961",
   "metadata": {},
   "outputs": [
    {
     "name": "stdout",
     "output_type": "stream",
     "text": [
      "3.0\n"
     ]
    }
   ],
   "source": [
    "def avg(*args):\n",
    "    sum=0\n",
    "    for i in args:\n",
    "        sum+=i\n",
    "    return (sum/len(args))\n",
    "\n",
    "print(avg(1, 2, 3, 4, 5))"
   ]
  }
 ],
 "metadata": {
  "kernelspec": {
   "display_name": "Python 3",
   "language": "python",
   "name": "python3"
  },
  "language_info": {
   "codemirror_mode": {
    "name": "ipython",
    "version": 3
   },
   "file_extension": ".py",
   "mimetype": "text/x-python",
   "name": "python",
   "nbconvert_exporter": "python",
   "pygments_lexer": "ipython3",
   "version": "3.8.8"
  }
 },
 "nbformat": 4,
 "nbformat_minor": 5
}

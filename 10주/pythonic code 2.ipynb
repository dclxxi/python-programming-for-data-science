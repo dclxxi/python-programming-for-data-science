{
 "cells": [
  {
   "cell_type": "code",
   "execution_count": 1,
   "id": "8fbb8d4e",
   "metadata": {},
   "outputs": [],
   "source": [
    "# 9-1\n",
    "def f(x, y):\n",
    "    return x**y\n",
    "\n",
    "f=lambda x, y: x**y"
   ]
  },
  {
   "cell_type": "code",
   "execution_count": 2,
   "id": "3a617bf2",
   "metadata": {},
   "outputs": [
    {
     "data": {
      "text/plain": [
       "[1, 4, 9, 16, 25]"
      ]
     },
     "execution_count": 2,
     "metadata": {},
     "output_type": "execute_result"
    }
   ],
   "source": [
    "# 9-2\n",
    "ex=[1, 2, 3, 4, 5]\n",
    "#[value ** 2 for value in ex]\n",
    "\n",
    "f=lambda x: x**2\n",
    "list(map(f, ex)) # 리스트 컴프리헨션과 같은 결과"
   ]
  },
  {
   "cell_type": "code",
   "execution_count": 3,
   "id": "61d19cd5",
   "metadata": {},
   "outputs": [
    {
     "data": {
      "text/plain": [
       "120"
      ]
     },
     "execution_count": 3,
     "metadata": {},
     "output_type": "execute_result"
    }
   ],
   "source": [
    "# 9-3\n",
    "from functools import reduce\n",
    "x=5\n",
    "reduce(lambda x, y: x*y, list(range(x, 0, -1))) # x~0 1씩 감소 (0 전단계인 1까지)"
   ]
  },
  {
   "cell_type": "code",
   "execution_count": 4,
   "id": "24069196",
   "metadata": {},
   "outputs": [
    {
     "name": "stdout",
     "output_type": "stream",
     "text": [
      "True\n",
      "False\n"
     ]
    }
   ],
   "source": [
    "# 9-7 \n",
    "def size_check(*vectors): # 가변인수\n",
    "    return len(set([len(i) for i in vectors]))==1 # 여러 개 벡터 요소 개수 동일한지\n",
    "    # set: 중복 X (set의 요소 개수 1 - 모든 요소가 동일 값)\n",
    "    \n",
    "v1=[[1, 2, 3], [3, 4, 5], [5, 6, 7]]\n",
    "v2=[[1, 2, 3], [3, 4, 5], [5, 6, 7, 8]]\n",
    "\n",
    "print(size_check(*v1))\n",
    "print(size_check(*v2))"
   ]
  },
  {
   "cell_type": "code",
   "execution_count": 5,
   "id": "52e8a5b3",
   "metadata": {},
   "outputs": [
    {
     "data": {
      "text/plain": [
       "[5, 10, 15, 20]"
      ]
     },
     "execution_count": 5,
     "metadata": {},
     "output_type": "execute_result"
    }
   ],
   "source": [
    "# 9-8\n",
    "def scalar_vector_product(alpha, vec): # 입력 벡터 크기 일정 X\n",
    "    return [alpha*t for t in vec] # 리스트 형태 - 스칼라, 벡터 곱\n",
    "\n",
    "scalar_vector_product(5, [1, 2, 3, 4])"
   ]
  },
  {
   "cell_type": "code",
   "execution_count": 6,
   "id": "46e80f28",
   "metadata": {},
   "outputs": [
    {
     "data": {
      "text/plain": [
       "[[4, 9], [7, 4]]"
      ]
     },
     "execution_count": 6,
     "metadata": {},
     "output_type": "execute_result"
    }
   ],
   "source": [
    "# 9-9\n",
    "def matrix_addition(*matrix): # 가변인수\n",
    "    return [[sum(row) for row in zip(*t)] for t in zip(*matrix)]\n",
    "\n",
    "matrix_x=[[2, 5], [2, 1]]\n",
    "matrix_y=[[2, 4], [5, 3]]\n",
    "matrix_addition(matrix_x, matrix_y) # 2+2 5+4 2+1 5+3"
   ]
  },
  {
   "cell_type": "code",
   "execution_count": 7,
   "id": "9970fa03",
   "metadata": {},
   "outputs": [
    {
     "name": "stdout",
     "output_type": "stream",
     "text": [
      "[-1, -1]\n",
      "[-13, -6]\n"
     ]
    }
   ],
   "source": [
    "# 9-10\n",
    "def vector_subtraction(*vector): # 가변인수\n",
    "    return [value[0]-sum(value[1:]) for value in zip(*vector)] # 언패킹 후 묶음 (1, 2)(3, 4)\n",
    "\n",
    "print(vector_subtraction([1, 3], [2, 4])) # 1-2 3-4\n",
    "print(vector_subtraction([1, 5], [10, 4], [4, 7])) # 1-10-4 5-4-7"
   ]
  }
 ],
 "metadata": {
  "kernelspec": {
   "display_name": "Python 3",
   "language": "python",
   "name": "python3"
  },
  "language_info": {
   "codemirror_mode": {
    "name": "ipython",
    "version": 3
   },
   "file_extension": ".py",
   "mimetype": "text/x-python",
   "name": "python",
   "nbconvert_exporter": "python",
   "pygments_lexer": "ipython3",
   "version": "3.8.8"
  }
 },
 "nbformat": 4,
 "nbformat_minor": 5
}

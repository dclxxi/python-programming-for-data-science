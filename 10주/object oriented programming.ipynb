{
 "cells": [
  {
   "cell_type": "code",
   "execution_count": 1,
   "id": "195108b4",
   "metadata": {},
   "outputs": [],
   "source": [
    "from notebook import Note\n",
    "from notebook import NoteBook"
   ]
  },
  {
   "cell_type": "code",
   "execution_count": 2,
   "id": "177f6fb2",
   "metadata": {},
   "outputs": [
    {
     "name": "stdout",
     "output_type": "stream",
     "text": [
      "세상사는 데 도움이 되는 명언, 힘이 되는 명언, 용기를 주는 명언, 위로가 되는 명언, 좋은 명언 모음 100가지. 자주 보면 좋을 것 같아서 선별했습니다.\n"
     ]
    }
   ],
   "source": [
    "good_sentence = \"\"\"세상사는 데 도움이 되는 명언, 힘이 되는 명언, 용기를 주는 명언, 위로가 되는 명언, 좋은 명언 모음 100가지. 자주 보면 좋을 것 같아서 선별했습니다.\"\"\"\n",
    "note_1 = Note(good_sentence)\n",
    "\n",
    "print(note_1)"
   ]
  },
  {
   "cell_type": "code",
   "execution_count": 3,
   "id": "fb411222",
   "metadata": {},
   "outputs": [
    {
     "name": "stdout",
     "output_type": "stream",
     "text": [
      "삭제된 노트입니다.\n"
     ]
    }
   ],
   "source": [
    "note_1.remove() # 해당 인스턴스의 컨텐츠 변경\n",
    "print(note_1)"
   ]
  },
  {
   "cell_type": "code",
   "execution_count": 4,
   "id": "9bfefed5",
   "metadata": {},
   "outputs": [],
   "source": [
    "good_sentence = \"\"\"삶이 있는 한 희망은 있다. - 키케로 \"\"\"\n",
    "note_2 = Note(good_sentence)\n",
    "\n",
    "good_sentence = \"\"\"하루에 3시간을 걸으면 7년 후에 지구를 한 바퀴 돌 수 있다. - 사무엘 존슨\"\"\"\n",
    "note_3 = Note(good_sentence)\n",
    "\n",
    "good_sentence = \"\"\"행복의 문이 하나 닫히면 다른 문이 열린다. 그러나 우리는 종종 닫힌 문을 멍하니 바라보다가 우리를 향해 열린 문을 보지 못하게 된다. - 헬렌 켈러\"\"\"\n",
    "note_4 = Note(good_sentence)"
   ]
  },
  {
   "cell_type": "code",
   "execution_count": 5,
   "id": "1ad897c6",
   "metadata": {},
   "outputs": [
    {
     "name": "stdout",
     "output_type": "stream",
     "text": [
      "1\n"
     ]
    }
   ],
   "source": [
    "wise_saying_notebook = NoteBook(\"명언 노트\") # 객체 생성\n",
    "wise_saying_notebook.add_note(note_1)\n",
    "print(wise_saying_notebook.get_number_of_all_pages()) # 모든 페이지 수"
   ]
  },
  {
   "cell_type": "code",
   "execution_count": 6,
   "id": "360e07af",
   "metadata": {},
   "outputs": [
    {
     "name": "stdout",
     "output_type": "stream",
     "text": [
      "4\n",
      "159\n"
     ]
    }
   ],
   "source": [
    "wise_saying_notebook.add_note(note_2)\n",
    "wise_saying_notebook.add_note(note_3)\n",
    "wise_saying_notebook.add_note(note_4)\n",
    "print(wise_saying_notebook.get_number_of_all_pages())\n",
    "print(wise_saying_notebook.get_number_of_all_characters())"
   ]
  },
  {
   "cell_type": "code",
   "execution_count": 7,
   "id": "b140035c",
   "metadata": {},
   "outputs": [
    {
     "name": "stdout",
     "output_type": "stream",
     "text": [
      "3\n"
     ]
    }
   ],
   "source": [
    "wise_saying_notebook.remove_note(3)\n",
    "print(wise_saying_notebook.get_number_of_all_pages())"
   ]
  },
  {
   "cell_type": "code",
   "execution_count": 8,
   "id": "9f69014f",
   "metadata": {},
   "outputs": [],
   "source": [
    "wise_saying_notebook.add_note(note_1, 100)"
   ]
  },
  {
   "cell_type": "code",
   "execution_count": 9,
   "id": "83e0f6b2",
   "metadata": {},
   "outputs": [
    {
     "name": "stdout",
     "output_type": "stream",
     "text": [
      "4\n"
     ]
    }
   ],
   "source": [
    "print(wise_saying_notebook.get_number_of_all_pages())"
   ]
  },
  {
   "cell_type": "code",
   "execution_count": 10,
   "id": "3964596c",
   "metadata": {},
   "outputs": [
    {
     "name": "stdout",
     "output_type": "stream",
     "text": [
      "해당 페이지에는 이미 노트가 존재합니다.\n"
     ]
    }
   ],
   "source": [
    "wise_saying_notebook.add_note(note_1, 100)"
   ]
  },
  {
   "cell_type": "code",
   "execution_count": 11,
   "id": "8a570cb7",
   "metadata": {},
   "outputs": [
    {
     "name": "stdout",
     "output_type": "stream",
     "text": [
      "해당 페이지에는 이미 노트가 존재합니다.\n",
      "해당 페이지에는 이미 노트가 존재합니다.\n",
      "해당 페이지에는 이미 노트가 존재합니다.\n",
      "해당 페이지에는 이미 노트가 존재합니다.\n"
     ]
    }
   ],
   "source": [
    "for i in range(300):\n",
    "    wise_saying_notebook.add_note(note_1, i)"
   ]
  },
  {
   "cell_type": "code",
   "execution_count": 12,
   "id": "f6e5c7ef",
   "metadata": {},
   "outputs": [
    {
     "name": "stdout",
     "output_type": "stream",
     "text": [
      "300\n"
     ]
    }
   ],
   "source": [
    "print(wise_saying_notebook.get_number_of_all_pages())"
   ]
  },
  {
   "cell_type": "code",
   "execution_count": 13,
   "id": "3e0a2f0f",
   "metadata": {},
   "outputs": [
    {
     "name": "stdout",
     "output_type": "stream",
     "text": [
      "더 이상 노트를 추가하지 못합니다.\n"
     ]
    }
   ],
   "source": [
    "wise_saying_notebook.add_note(note_1)"
   ]
  }
 ],
 "metadata": {
  "kernelspec": {
   "display_name": "Python 3",
   "language": "python",
   "name": "python3"
  },
  "language_info": {
   "codemirror_mode": {
    "name": "ipython",
    "version": 3
   },
   "file_extension": ".py",
   "mimetype": "text/x-python",
   "name": "python",
   "nbconvert_exporter": "python",
   "pygments_lexer": "ipython3",
   "version": "3.8.8"
  }
 },
 "nbformat": 4,
 "nbformat_minor": 5
}

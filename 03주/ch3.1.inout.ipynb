{
 "cells": [
  {
   "cell_type": "code",
   "execution_count": 1,
   "id": "e197f0f6",
   "metadata": {},
   "outputs": [
    {
     "name": "stdout",
     "output_type": "stream",
     "text": [
      "Enter your name:\n",
      "Sunhwa Jo\n",
      "Hi Sunhwa Jo How are you today?\n"
     ]
    }
   ],
   "source": [
    "# 3.1 input\n",
    "\n",
    "print(\"Enter your name:\")\n",
    "somebody=input() # 콘솔 창에서 입력한 값을 somebody에 저장\n",
    "print(\"Hi\", somebody, \"How are you today?\")"
   ]
  },
  {
   "cell_type": "code",
   "execution_count": 2,
   "id": "41148362",
   "metadata": {},
   "outputs": [
    {
     "name": "stdout",
     "output_type": "stream",
     "text": [
      "온도를 입력하세요: 103\n",
      "103.0\n"
     ]
    }
   ],
   "source": [
    "# 3.2 print\n",
    "\n",
    "temperature=float(input(\"온도를 입력하세요: \")) # 입력 시 바로 형 변환\n",
    "print(temperature)"
   ]
  },
  {
   "cell_type": "code",
   "execution_count": 3,
   "id": "c0582c3d",
   "metadata": {
    "scrolled": true
   },
   "outputs": [
    {
     "name": "stdout",
     "output_type": "stream",
     "text": [
      "본 프로그램은 섭씨온도를 화씨온도로 변환하는 프로그램입니다.\n",
      "변환하고 싶은 섭씨온도를 입력하세요.\n",
      "32\n",
      "섭씨온도: 32\n",
      "화씨온도: 89.6\n"
     ]
    }
   ],
   "source": [
    "# fahrenheit\n",
    "\n",
    "print(\"본 프로그램은 섭씨온도를 화씨온도로 변환하는 프로그램입니다.\")\n",
    "print(\"변환하고 싶은 섭씨온도를 입력하세요.\")\n",
    "\n",
    "celsius=input()\n",
    "fahrenheit=(float(celsius)*1.8)+32\n",
    "\n",
    "print(\"섭씨온도:\", celsius)\n",
    "print(\"화씨온도:\", fahrenheit)"
   ]
  },
  {
   "cell_type": "markdown",
   "id": "4947b93e",
   "metadata": {},
   "source": [
    "### 표준 출력 함수: print()\n",
    "* 화면에 결과를 출력하는 표준 출력 함수\n",
    "* sep='separator': 개체가 분리하는 방법 지정, 기본값은 ''\n",
    "* end='end':  끝에 출력할 항목 지정, 기본값은 '\\n'"
   ]
  },
  {
   "cell_type": "code",
   "execution_count": 4,
   "id": "4d7d0b6e",
   "metadata": {},
   "outputs": [
    {
     "name": "stdout",
     "output_type": "stream",
     "text": [
      "Hi Sun\n"
     ]
    }
   ],
   "source": [
    "str1=\"Hi\"\n",
    "str2=\"Sun\"\n",
    "print(str1, str2)"
   ]
  },
  {
   "cell_type": "code",
   "execution_count": 5,
   "id": "bd22e38f",
   "metadata": {},
   "outputs": [
    {
     "name": "stdout",
     "output_type": "stream",
     "text": [
      "Hi, Sun\n"
     ]
    }
   ],
   "source": [
    "print(str1, str2, sep=\", \")"
   ]
  },
  {
   "cell_type": "code",
   "execution_count": 6,
   "id": "62c49e1d",
   "metadata": {},
   "outputs": [
    {
     "name": "stdout",
     "output_type": "stream",
     "text": [
      "1\n",
      "2\n",
      "3\n"
     ]
    }
   ],
   "source": [
    "print(1)\n",
    "print(2)\n",
    "print(3)"
   ]
  },
  {
   "cell_type": "code",
   "execution_count": 7,
   "id": "dc2b4bdc",
   "metadata": {},
   "outputs": [
    {
     "name": "stdout",
     "output_type": "stream",
     "text": [
      "1 2 3 "
     ]
    }
   ],
   "source": [
    "print(1, end=\" \")\n",
    "print(2, end=\" \")\n",
    "print(3, end=\" \")"
   ]
  }
 ],
 "metadata": {
  "kernelspec": {
   "display_name": "Python 3",
   "language": "python",
   "name": "python3"
  },
  "language_info": {
   "codemirror_mode": {
    "name": "ipython",
    "version": 3
   },
   "file_extension": ".py",
   "mimetype": "text/x-python",
   "name": "python",
   "nbconvert_exporter": "python",
   "pygments_lexer": "ipython3",
   "version": "3.8.8"
  }
 },
 "nbformat": 4,
 "nbformat_minor": 5
}
